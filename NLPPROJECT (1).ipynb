{
  "nbformat": 4,
  "nbformat_minor": 0,
  "metadata": {
    "colab": {
      "provenance": []
    },
    "kernelspec": {
      "name": "python3",
      "display_name": "Python 3"
    },
    "language_info": {
      "name": "python"
    },
    "widgets": {
      "application/vnd.jupyter.widget-state+json": {
        "1e4c20078d6c44089641dd8a596b0d48": {
          "model_module": "@jupyter-widgets/controls",
          "model_name": "HBoxModel",
          "model_module_version": "1.5.0",
          "state": {
            "_dom_classes": [],
            "_model_module": "@jupyter-widgets/controls",
            "_model_module_version": "1.5.0",
            "_model_name": "HBoxModel",
            "_view_count": null,
            "_view_module": "@jupyter-widgets/controls",
            "_view_module_version": "1.5.0",
            "_view_name": "HBoxView",
            "box_style": "",
            "children": [
              "IPY_MODEL_6fdda9b1111541dc9c6bd6ae14d1e035",
              "IPY_MODEL_db34d35bfa8f4d589aaed5e2321e3aef",
              "IPY_MODEL_8a05795ca82742e0b187bbf92f26db70"
            ],
            "layout": "IPY_MODEL_43162a237e8c4561b717e640493d1cfc"
          }
        },
        "6fdda9b1111541dc9c6bd6ae14d1e035": {
          "model_module": "@jupyter-widgets/controls",
          "model_name": "HTMLModel",
          "model_module_version": "1.5.0",
          "state": {
            "_dom_classes": [],
            "_model_module": "@jupyter-widgets/controls",
            "_model_module_version": "1.5.0",
            "_model_name": "HTMLModel",
            "_view_count": null,
            "_view_module": "@jupyter-widgets/controls",
            "_view_module_version": "1.5.0",
            "_view_name": "HTMLView",
            "description": "",
            "description_tooltip": null,
            "layout": "IPY_MODEL_aeafc793c76842fc82cec64288092591",
            "placeholder": "​",
            "style": "IPY_MODEL_509d2fd1698b408a95c5c10bd8c724d5",
            "value": "Map: 100%"
          }
        },
        "db34d35bfa8f4d589aaed5e2321e3aef": {
          "model_module": "@jupyter-widgets/controls",
          "model_name": "FloatProgressModel",
          "model_module_version": "1.5.0",
          "state": {
            "_dom_classes": [],
            "_model_module": "@jupyter-widgets/controls",
            "_model_module_version": "1.5.0",
            "_model_name": "FloatProgressModel",
            "_view_count": null,
            "_view_module": "@jupyter-widgets/controls",
            "_view_module_version": "1.5.0",
            "_view_name": "ProgressView",
            "bar_style": "success",
            "description": "",
            "description_tooltip": null,
            "layout": "IPY_MODEL_11e9af67bcf74f73aa170e02b33c2037",
            "max": 562,
            "min": 0,
            "orientation": "horizontal",
            "style": "IPY_MODEL_49956bd35d994e10b7ec049af42e8714",
            "value": 562
          }
        },
        "8a05795ca82742e0b187bbf92f26db70": {
          "model_module": "@jupyter-widgets/controls",
          "model_name": "HTMLModel",
          "model_module_version": "1.5.0",
          "state": {
            "_dom_classes": [],
            "_model_module": "@jupyter-widgets/controls",
            "_model_module_version": "1.5.0",
            "_model_name": "HTMLModel",
            "_view_count": null,
            "_view_module": "@jupyter-widgets/controls",
            "_view_module_version": "1.5.0",
            "_view_name": "HTMLView",
            "description": "",
            "description_tooltip": null,
            "layout": "IPY_MODEL_53123909770b442ca374f02401d927b0",
            "placeholder": "​",
            "style": "IPY_MODEL_fe06592abbdb44a290e1c736623d419e",
            "value": " 562/562 [00:01&lt;00:00, 394.24 examples/s]"
          }
        },
        "43162a237e8c4561b717e640493d1cfc": {
          "model_module": "@jupyter-widgets/base",
          "model_name": "LayoutModel",
          "model_module_version": "1.2.0",
          "state": {
            "_model_module": "@jupyter-widgets/base",
            "_model_module_version": "1.2.0",
            "_model_name": "LayoutModel",
            "_view_count": null,
            "_view_module": "@jupyter-widgets/base",
            "_view_module_version": "1.2.0",
            "_view_name": "LayoutView",
            "align_content": null,
            "align_items": null,
            "align_self": null,
            "border": null,
            "bottom": null,
            "display": null,
            "flex": null,
            "flex_flow": null,
            "grid_area": null,
            "grid_auto_columns": null,
            "grid_auto_flow": null,
            "grid_auto_rows": null,
            "grid_column": null,
            "grid_gap": null,
            "grid_row": null,
            "grid_template_areas": null,
            "grid_template_columns": null,
            "grid_template_rows": null,
            "height": null,
            "justify_content": null,
            "justify_items": null,
            "left": null,
            "margin": null,
            "max_height": null,
            "max_width": null,
            "min_height": null,
            "min_width": null,
            "object_fit": null,
            "object_position": null,
            "order": null,
            "overflow": null,
            "overflow_x": null,
            "overflow_y": null,
            "padding": null,
            "right": null,
            "top": null,
            "visibility": null,
            "width": null
          }
        },
        "aeafc793c76842fc82cec64288092591": {
          "model_module": "@jupyter-widgets/base",
          "model_name": "LayoutModel",
          "model_module_version": "1.2.0",
          "state": {
            "_model_module": "@jupyter-widgets/base",
            "_model_module_version": "1.2.0",
            "_model_name": "LayoutModel",
            "_view_count": null,
            "_view_module": "@jupyter-widgets/base",
            "_view_module_version": "1.2.0",
            "_view_name": "LayoutView",
            "align_content": null,
            "align_items": null,
            "align_self": null,
            "border": null,
            "bottom": null,
            "display": null,
            "flex": null,
            "flex_flow": null,
            "grid_area": null,
            "grid_auto_columns": null,
            "grid_auto_flow": null,
            "grid_auto_rows": null,
            "grid_column": null,
            "grid_gap": null,
            "grid_row": null,
            "grid_template_areas": null,
            "grid_template_columns": null,
            "grid_template_rows": null,
            "height": null,
            "justify_content": null,
            "justify_items": null,
            "left": null,
            "margin": null,
            "max_height": null,
            "max_width": null,
            "min_height": null,
            "min_width": null,
            "object_fit": null,
            "object_position": null,
            "order": null,
            "overflow": null,
            "overflow_x": null,
            "overflow_y": null,
            "padding": null,
            "right": null,
            "top": null,
            "visibility": null,
            "width": null
          }
        },
        "509d2fd1698b408a95c5c10bd8c724d5": {
          "model_module": "@jupyter-widgets/controls",
          "model_name": "DescriptionStyleModel",
          "model_module_version": "1.5.0",
          "state": {
            "_model_module": "@jupyter-widgets/controls",
            "_model_module_version": "1.5.0",
            "_model_name": "DescriptionStyleModel",
            "_view_count": null,
            "_view_module": "@jupyter-widgets/base",
            "_view_module_version": "1.2.0",
            "_view_name": "StyleView",
            "description_width": ""
          }
        },
        "11e9af67bcf74f73aa170e02b33c2037": {
          "model_module": "@jupyter-widgets/base",
          "model_name": "LayoutModel",
          "model_module_version": "1.2.0",
          "state": {
            "_model_module": "@jupyter-widgets/base",
            "_model_module_version": "1.2.0",
            "_model_name": "LayoutModel",
            "_view_count": null,
            "_view_module": "@jupyter-widgets/base",
            "_view_module_version": "1.2.0",
            "_view_name": "LayoutView",
            "align_content": null,
            "align_items": null,
            "align_self": null,
            "border": null,
            "bottom": null,
            "display": null,
            "flex": null,
            "flex_flow": null,
            "grid_area": null,
            "grid_auto_columns": null,
            "grid_auto_flow": null,
            "grid_auto_rows": null,
            "grid_column": null,
            "grid_gap": null,
            "grid_row": null,
            "grid_template_areas": null,
            "grid_template_columns": null,
            "grid_template_rows": null,
            "height": null,
            "justify_content": null,
            "justify_items": null,
            "left": null,
            "margin": null,
            "max_height": null,
            "max_width": null,
            "min_height": null,
            "min_width": null,
            "object_fit": null,
            "object_position": null,
            "order": null,
            "overflow": null,
            "overflow_x": null,
            "overflow_y": null,
            "padding": null,
            "right": null,
            "top": null,
            "visibility": null,
            "width": null
          }
        },
        "49956bd35d994e10b7ec049af42e8714": {
          "model_module": "@jupyter-widgets/controls",
          "model_name": "ProgressStyleModel",
          "model_module_version": "1.5.0",
          "state": {
            "_model_module": "@jupyter-widgets/controls",
            "_model_module_version": "1.5.0",
            "_model_name": "ProgressStyleModel",
            "_view_count": null,
            "_view_module": "@jupyter-widgets/base",
            "_view_module_version": "1.2.0",
            "_view_name": "StyleView",
            "bar_color": null,
            "description_width": ""
          }
        },
        "53123909770b442ca374f02401d927b0": {
          "model_module": "@jupyter-widgets/base",
          "model_name": "LayoutModel",
          "model_module_version": "1.2.0",
          "state": {
            "_model_module": "@jupyter-widgets/base",
            "_model_module_version": "1.2.0",
            "_model_name": "LayoutModel",
            "_view_count": null,
            "_view_module": "@jupyter-widgets/base",
            "_view_module_version": "1.2.0",
            "_view_name": "LayoutView",
            "align_content": null,
            "align_items": null,
            "align_self": null,
            "border": null,
            "bottom": null,
            "display": null,
            "flex": null,
            "flex_flow": null,
            "grid_area": null,
            "grid_auto_columns": null,
            "grid_auto_flow": null,
            "grid_auto_rows": null,
            "grid_column": null,
            "grid_gap": null,
            "grid_row": null,
            "grid_template_areas": null,
            "grid_template_columns": null,
            "grid_template_rows": null,
            "height": null,
            "justify_content": null,
            "justify_items": null,
            "left": null,
            "margin": null,
            "max_height": null,
            "max_width": null,
            "min_height": null,
            "min_width": null,
            "object_fit": null,
            "object_position": null,
            "order": null,
            "overflow": null,
            "overflow_x": null,
            "overflow_y": null,
            "padding": null,
            "right": null,
            "top": null,
            "visibility": null,
            "width": null
          }
        },
        "fe06592abbdb44a290e1c736623d419e": {
          "model_module": "@jupyter-widgets/controls",
          "model_name": "DescriptionStyleModel",
          "model_module_version": "1.5.0",
          "state": {
            "_model_module": "@jupyter-widgets/controls",
            "_model_module_version": "1.5.0",
            "_model_name": "DescriptionStyleModel",
            "_view_count": null,
            "_view_module": "@jupyter-widgets/base",
            "_view_module_version": "1.2.0",
            "_view_name": "StyleView",
            "description_width": ""
          }
        },
        "346400ff82be43f2b29be5808939b72e": {
          "model_module": "@jupyter-widgets/controls",
          "model_name": "HBoxModel",
          "model_module_version": "1.5.0",
          "state": {
            "_dom_classes": [],
            "_model_module": "@jupyter-widgets/controls",
            "_model_module_version": "1.5.0",
            "_model_name": "HBoxModel",
            "_view_count": null,
            "_view_module": "@jupyter-widgets/controls",
            "_view_module_version": "1.5.0",
            "_view_name": "HBoxView",
            "box_style": "",
            "children": [
              "IPY_MODEL_f12137169dfd4adcae8e75b28c118a30",
              "IPY_MODEL_293a631d65e5418da76ecba797e2b82b",
              "IPY_MODEL_940df4f40a0f496a8516df2fbaafbd9e"
            ],
            "layout": "IPY_MODEL_eed2fb8ce0984d1e8fabc72de7d5ed7a"
          }
        },
        "f12137169dfd4adcae8e75b28c118a30": {
          "model_module": "@jupyter-widgets/controls",
          "model_name": "HTMLModel",
          "model_module_version": "1.5.0",
          "state": {
            "_dom_classes": [],
            "_model_module": "@jupyter-widgets/controls",
            "_model_module_version": "1.5.0",
            "_model_name": "HTMLModel",
            "_view_count": null,
            "_view_module": "@jupyter-widgets/controls",
            "_view_module_version": "1.5.0",
            "_view_name": "HTMLView",
            "description": "",
            "description_tooltip": null,
            "layout": "IPY_MODEL_a174925a1953487d96abca845e4b1790",
            "placeholder": "​",
            "style": "IPY_MODEL_ab287bfd7c8d41cb97b879ddb3a121fa",
            "value": "Map: 100%"
          }
        },
        "293a631d65e5418da76ecba797e2b82b": {
          "model_module": "@jupyter-widgets/controls",
          "model_name": "FloatProgressModel",
          "model_module_version": "1.5.0",
          "state": {
            "_dom_classes": [],
            "_model_module": "@jupyter-widgets/controls",
            "_model_module_version": "1.5.0",
            "_model_name": "FloatProgressModel",
            "_view_count": null,
            "_view_module": "@jupyter-widgets/controls",
            "_view_module_version": "1.5.0",
            "_view_name": "ProgressView",
            "bar_style": "success",
            "description": "",
            "description_tooltip": null,
            "layout": "IPY_MODEL_8521313e823640d89d44a595fe13922b",
            "max": 63,
            "min": 0,
            "orientation": "horizontal",
            "style": "IPY_MODEL_7b75e2c07a4e4733ad0ee5af4cefa5ba",
            "value": 63
          }
        },
        "940df4f40a0f496a8516df2fbaafbd9e": {
          "model_module": "@jupyter-widgets/controls",
          "model_name": "HTMLModel",
          "model_module_version": "1.5.0",
          "state": {
            "_dom_classes": [],
            "_model_module": "@jupyter-widgets/controls",
            "_model_module_version": "1.5.0",
            "_model_name": "HTMLModel",
            "_view_count": null,
            "_view_module": "@jupyter-widgets/controls",
            "_view_module_version": "1.5.0",
            "_view_name": "HTMLView",
            "description": "",
            "description_tooltip": null,
            "layout": "IPY_MODEL_53fd4e7a2c664a9d8bb9432e07e4e2d4",
            "placeholder": "​",
            "style": "IPY_MODEL_6a3ba22406a846e5a574a2220d2d4bac",
            "value": " 63/63 [00:00&lt;00:00, 160.98 examples/s]"
          }
        },
        "eed2fb8ce0984d1e8fabc72de7d5ed7a": {
          "model_module": "@jupyter-widgets/base",
          "model_name": "LayoutModel",
          "model_module_version": "1.2.0",
          "state": {
            "_model_module": "@jupyter-widgets/base",
            "_model_module_version": "1.2.0",
            "_model_name": "LayoutModel",
            "_view_count": null,
            "_view_module": "@jupyter-widgets/base",
            "_view_module_version": "1.2.0",
            "_view_name": "LayoutView",
            "align_content": null,
            "align_items": null,
            "align_self": null,
            "border": null,
            "bottom": null,
            "display": null,
            "flex": null,
            "flex_flow": null,
            "grid_area": null,
            "grid_auto_columns": null,
            "grid_auto_flow": null,
            "grid_auto_rows": null,
            "grid_column": null,
            "grid_gap": null,
            "grid_row": null,
            "grid_template_areas": null,
            "grid_template_columns": null,
            "grid_template_rows": null,
            "height": null,
            "justify_content": null,
            "justify_items": null,
            "left": null,
            "margin": null,
            "max_height": null,
            "max_width": null,
            "min_height": null,
            "min_width": null,
            "object_fit": null,
            "object_position": null,
            "order": null,
            "overflow": null,
            "overflow_x": null,
            "overflow_y": null,
            "padding": null,
            "right": null,
            "top": null,
            "visibility": null,
            "width": null
          }
        },
        "a174925a1953487d96abca845e4b1790": {
          "model_module": "@jupyter-widgets/base",
          "model_name": "LayoutModel",
          "model_module_version": "1.2.0",
          "state": {
            "_model_module": "@jupyter-widgets/base",
            "_model_module_version": "1.2.0",
            "_model_name": "LayoutModel",
            "_view_count": null,
            "_view_module": "@jupyter-widgets/base",
            "_view_module_version": "1.2.0",
            "_view_name": "LayoutView",
            "align_content": null,
            "align_items": null,
            "align_self": null,
            "border": null,
            "bottom": null,
            "display": null,
            "flex": null,
            "flex_flow": null,
            "grid_area": null,
            "grid_auto_columns": null,
            "grid_auto_flow": null,
            "grid_auto_rows": null,
            "grid_column": null,
            "grid_gap": null,
            "grid_row": null,
            "grid_template_areas": null,
            "grid_template_columns": null,
            "grid_template_rows": null,
            "height": null,
            "justify_content": null,
            "justify_items": null,
            "left": null,
            "margin": null,
            "max_height": null,
            "max_width": null,
            "min_height": null,
            "min_width": null,
            "object_fit": null,
            "object_position": null,
            "order": null,
            "overflow": null,
            "overflow_x": null,
            "overflow_y": null,
            "padding": null,
            "right": null,
            "top": null,
            "visibility": null,
            "width": null
          }
        },
        "ab287bfd7c8d41cb97b879ddb3a121fa": {
          "model_module": "@jupyter-widgets/controls",
          "model_name": "DescriptionStyleModel",
          "model_module_version": "1.5.0",
          "state": {
            "_model_module": "@jupyter-widgets/controls",
            "_model_module_version": "1.5.0",
            "_model_name": "DescriptionStyleModel",
            "_view_count": null,
            "_view_module": "@jupyter-widgets/base",
            "_view_module_version": "1.2.0",
            "_view_name": "StyleView",
            "description_width": ""
          }
        },
        "8521313e823640d89d44a595fe13922b": {
          "model_module": "@jupyter-widgets/base",
          "model_name": "LayoutModel",
          "model_module_version": "1.2.0",
          "state": {
            "_model_module": "@jupyter-widgets/base",
            "_model_module_version": "1.2.0",
            "_model_name": "LayoutModel",
            "_view_count": null,
            "_view_module": "@jupyter-widgets/base",
            "_view_module_version": "1.2.0",
            "_view_name": "LayoutView",
            "align_content": null,
            "align_items": null,
            "align_self": null,
            "border": null,
            "bottom": null,
            "display": null,
            "flex": null,
            "flex_flow": null,
            "grid_area": null,
            "grid_auto_columns": null,
            "grid_auto_flow": null,
            "grid_auto_rows": null,
            "grid_column": null,
            "grid_gap": null,
            "grid_row": null,
            "grid_template_areas": null,
            "grid_template_columns": null,
            "grid_template_rows": null,
            "height": null,
            "justify_content": null,
            "justify_items": null,
            "left": null,
            "margin": null,
            "max_height": null,
            "max_width": null,
            "min_height": null,
            "min_width": null,
            "object_fit": null,
            "object_position": null,
            "order": null,
            "overflow": null,
            "overflow_x": null,
            "overflow_y": null,
            "padding": null,
            "right": null,
            "top": null,
            "visibility": null,
            "width": null
          }
        },
        "7b75e2c07a4e4733ad0ee5af4cefa5ba": {
          "model_module": "@jupyter-widgets/controls",
          "model_name": "ProgressStyleModel",
          "model_module_version": "1.5.0",
          "state": {
            "_model_module": "@jupyter-widgets/controls",
            "_model_module_version": "1.5.0",
            "_model_name": "ProgressStyleModel",
            "_view_count": null,
            "_view_module": "@jupyter-widgets/base",
            "_view_module_version": "1.2.0",
            "_view_name": "StyleView",
            "bar_color": null,
            "description_width": ""
          }
        },
        "53fd4e7a2c664a9d8bb9432e07e4e2d4": {
          "model_module": "@jupyter-widgets/base",
          "model_name": "LayoutModel",
          "model_module_version": "1.2.0",
          "state": {
            "_model_module": "@jupyter-widgets/base",
            "_model_module_version": "1.2.0",
            "_model_name": "LayoutModel",
            "_view_count": null,
            "_view_module": "@jupyter-widgets/base",
            "_view_module_version": "1.2.0",
            "_view_name": "LayoutView",
            "align_content": null,
            "align_items": null,
            "align_self": null,
            "border": null,
            "bottom": null,
            "display": null,
            "flex": null,
            "flex_flow": null,
            "grid_area": null,
            "grid_auto_columns": null,
            "grid_auto_flow": null,
            "grid_auto_rows": null,
            "grid_column": null,
            "grid_gap": null,
            "grid_row": null,
            "grid_template_areas": null,
            "grid_template_columns": null,
            "grid_template_rows": null,
            "height": null,
            "justify_content": null,
            "justify_items": null,
            "left": null,
            "margin": null,
            "max_height": null,
            "max_width": null,
            "min_height": null,
            "min_width": null,
            "object_fit": null,
            "object_position": null,
            "order": null,
            "overflow": null,
            "overflow_x": null,
            "overflow_y": null,
            "padding": null,
            "right": null,
            "top": null,
            "visibility": null,
            "width": null
          }
        },
        "6a3ba22406a846e5a574a2220d2d4bac": {
          "model_module": "@jupyter-widgets/controls",
          "model_name": "DescriptionStyleModel",
          "model_module_version": "1.5.0",
          "state": {
            "_model_module": "@jupyter-widgets/controls",
            "_model_module_version": "1.5.0",
            "_model_name": "DescriptionStyleModel",
            "_view_count": null,
            "_view_module": "@jupyter-widgets/base",
            "_view_module_version": "1.2.0",
            "_view_name": "StyleView",
            "description_width": ""
          }
        },
        "6e7b159f78164304be1d751aaaac644a": {
          "model_module": "@jupyter-widgets/controls",
          "model_name": "HBoxModel",
          "model_module_version": "1.5.0",
          "state": {
            "_dom_classes": [],
            "_model_module": "@jupyter-widgets/controls",
            "_model_module_version": "1.5.0",
            "_model_name": "HBoxModel",
            "_view_count": null,
            "_view_module": "@jupyter-widgets/controls",
            "_view_module_version": "1.5.0",
            "_view_name": "HBoxView",
            "box_style": "",
            "children": [
              "IPY_MODEL_685a460782ce4401bac26b76d87039ce",
              "IPY_MODEL_a95feb54f6d84299b50330136299cde7",
              "IPY_MODEL_3359807b59214c7ea7b995d1cc42e3fb"
            ],
            "layout": "IPY_MODEL_ff5891f4e1344d01b1ddfea938bb09dc"
          }
        },
        "685a460782ce4401bac26b76d87039ce": {
          "model_module": "@jupyter-widgets/controls",
          "model_name": "HTMLModel",
          "model_module_version": "1.5.0",
          "state": {
            "_dom_classes": [],
            "_model_module": "@jupyter-widgets/controls",
            "_model_module_version": "1.5.0",
            "_model_name": "HTMLModel",
            "_view_count": null,
            "_view_module": "@jupyter-widgets/controls",
            "_view_module_version": "1.5.0",
            "_view_name": "HTMLView",
            "description": "",
            "description_tooltip": null,
            "layout": "IPY_MODEL_46fc2651c9fb47ff96af4c9b26830815",
            "placeholder": "​",
            "style": "IPY_MODEL_90f68c1a4e8044f8904fe40a6d542d85",
            "value": "Downloading builder script: "
          }
        },
        "a95feb54f6d84299b50330136299cde7": {
          "model_module": "@jupyter-widgets/controls",
          "model_name": "FloatProgressModel",
          "model_module_version": "1.5.0",
          "state": {
            "_dom_classes": [],
            "_model_module": "@jupyter-widgets/controls",
            "_model_module_version": "1.5.0",
            "_model_name": "FloatProgressModel",
            "_view_count": null,
            "_view_module": "@jupyter-widgets/controls",
            "_view_module_version": "1.5.0",
            "_view_name": "ProgressView",
            "bar_style": "success",
            "description": "",
            "description_tooltip": null,
            "layout": "IPY_MODEL_9b3a8ea6a1c546f3b89e2ed2e51e9e76",
            "max": 1,
            "min": 0,
            "orientation": "horizontal",
            "style": "IPY_MODEL_10d87e59dc7743cdbbe8b47cbb88d266",
            "value": 1
          }
        },
        "3359807b59214c7ea7b995d1cc42e3fb": {
          "model_module": "@jupyter-widgets/controls",
          "model_name": "HTMLModel",
          "model_module_version": "1.5.0",
          "state": {
            "_dom_classes": [],
            "_model_module": "@jupyter-widgets/controls",
            "_model_module_version": "1.5.0",
            "_model_name": "HTMLModel",
            "_view_count": null,
            "_view_module": "@jupyter-widgets/controls",
            "_view_module_version": "1.5.0",
            "_view_name": "HTMLView",
            "description": "",
            "description_tooltip": null,
            "layout": "IPY_MODEL_919052da057742dfa7f0765d426e854b",
            "placeholder": "​",
            "style": "IPY_MODEL_b32c2efbd69045f589f4615b0a648a3a",
            "value": " 8.15k/? [00:00&lt;00:00, 450kB/s]"
          }
        },
        "ff5891f4e1344d01b1ddfea938bb09dc": {
          "model_module": "@jupyter-widgets/base",
          "model_name": "LayoutModel",
          "model_module_version": "1.2.0",
          "state": {
            "_model_module": "@jupyter-widgets/base",
            "_model_module_version": "1.2.0",
            "_model_name": "LayoutModel",
            "_view_count": null,
            "_view_module": "@jupyter-widgets/base",
            "_view_module_version": "1.2.0",
            "_view_name": "LayoutView",
            "align_content": null,
            "align_items": null,
            "align_self": null,
            "border": null,
            "bottom": null,
            "display": null,
            "flex": null,
            "flex_flow": null,
            "grid_area": null,
            "grid_auto_columns": null,
            "grid_auto_flow": null,
            "grid_auto_rows": null,
            "grid_column": null,
            "grid_gap": null,
            "grid_row": null,
            "grid_template_areas": null,
            "grid_template_columns": null,
            "grid_template_rows": null,
            "height": null,
            "justify_content": null,
            "justify_items": null,
            "left": null,
            "margin": null,
            "max_height": null,
            "max_width": null,
            "min_height": null,
            "min_width": null,
            "object_fit": null,
            "object_position": null,
            "order": null,
            "overflow": null,
            "overflow_x": null,
            "overflow_y": null,
            "padding": null,
            "right": null,
            "top": null,
            "visibility": null,
            "width": null
          }
        },
        "46fc2651c9fb47ff96af4c9b26830815": {
          "model_module": "@jupyter-widgets/base",
          "model_name": "LayoutModel",
          "model_module_version": "1.2.0",
          "state": {
            "_model_module": "@jupyter-widgets/base",
            "_model_module_version": "1.2.0",
            "_model_name": "LayoutModel",
            "_view_count": null,
            "_view_module": "@jupyter-widgets/base",
            "_view_module_version": "1.2.0",
            "_view_name": "LayoutView",
            "align_content": null,
            "align_items": null,
            "align_self": null,
            "border": null,
            "bottom": null,
            "display": null,
            "flex": null,
            "flex_flow": null,
            "grid_area": null,
            "grid_auto_columns": null,
            "grid_auto_flow": null,
            "grid_auto_rows": null,
            "grid_column": null,
            "grid_gap": null,
            "grid_row": null,
            "grid_template_areas": null,
            "grid_template_columns": null,
            "grid_template_rows": null,
            "height": null,
            "justify_content": null,
            "justify_items": null,
            "left": null,
            "margin": null,
            "max_height": null,
            "max_width": null,
            "min_height": null,
            "min_width": null,
            "object_fit": null,
            "object_position": null,
            "order": null,
            "overflow": null,
            "overflow_x": null,
            "overflow_y": null,
            "padding": null,
            "right": null,
            "top": null,
            "visibility": null,
            "width": null
          }
        },
        "90f68c1a4e8044f8904fe40a6d542d85": {
          "model_module": "@jupyter-widgets/controls",
          "model_name": "DescriptionStyleModel",
          "model_module_version": "1.5.0",
          "state": {
            "_model_module": "@jupyter-widgets/controls",
            "_model_module_version": "1.5.0",
            "_model_name": "DescriptionStyleModel",
            "_view_count": null,
            "_view_module": "@jupyter-widgets/base",
            "_view_module_version": "1.2.0",
            "_view_name": "StyleView",
            "description_width": ""
          }
        },
        "9b3a8ea6a1c546f3b89e2ed2e51e9e76": {
          "model_module": "@jupyter-widgets/base",
          "model_name": "LayoutModel",
          "model_module_version": "1.2.0",
          "state": {
            "_model_module": "@jupyter-widgets/base",
            "_model_module_version": "1.2.0",
            "_model_name": "LayoutModel",
            "_view_count": null,
            "_view_module": "@jupyter-widgets/base",
            "_view_module_version": "1.2.0",
            "_view_name": "LayoutView",
            "align_content": null,
            "align_items": null,
            "align_self": null,
            "border": null,
            "bottom": null,
            "display": null,
            "flex": null,
            "flex_flow": null,
            "grid_area": null,
            "grid_auto_columns": null,
            "grid_auto_flow": null,
            "grid_auto_rows": null,
            "grid_column": null,
            "grid_gap": null,
            "grid_row": null,
            "grid_template_areas": null,
            "grid_template_columns": null,
            "grid_template_rows": null,
            "height": null,
            "justify_content": null,
            "justify_items": null,
            "left": null,
            "margin": null,
            "max_height": null,
            "max_width": null,
            "min_height": null,
            "min_width": null,
            "object_fit": null,
            "object_position": null,
            "order": null,
            "overflow": null,
            "overflow_x": null,
            "overflow_y": null,
            "padding": null,
            "right": null,
            "top": null,
            "visibility": null,
            "width": "20px"
          }
        },
        "10d87e59dc7743cdbbe8b47cbb88d266": {
          "model_module": "@jupyter-widgets/controls",
          "model_name": "ProgressStyleModel",
          "model_module_version": "1.5.0",
          "state": {
            "_model_module": "@jupyter-widgets/controls",
            "_model_module_version": "1.5.0",
            "_model_name": "ProgressStyleModel",
            "_view_count": null,
            "_view_module": "@jupyter-widgets/base",
            "_view_module_version": "1.2.0",
            "_view_name": "StyleView",
            "bar_color": null,
            "description_width": ""
          }
        },
        "919052da057742dfa7f0765d426e854b": {
          "model_module": "@jupyter-widgets/base",
          "model_name": "LayoutModel",
          "model_module_version": "1.2.0",
          "state": {
            "_model_module": "@jupyter-widgets/base",
            "_model_module_version": "1.2.0",
            "_model_name": "LayoutModel",
            "_view_count": null,
            "_view_module": "@jupyter-widgets/base",
            "_view_module_version": "1.2.0",
            "_view_name": "LayoutView",
            "align_content": null,
            "align_items": null,
            "align_self": null,
            "border": null,
            "bottom": null,
            "display": null,
            "flex": null,
            "flex_flow": null,
            "grid_area": null,
            "grid_auto_columns": null,
            "grid_auto_flow": null,
            "grid_auto_rows": null,
            "grid_column": null,
            "grid_gap": null,
            "grid_row": null,
            "grid_template_areas": null,
            "grid_template_columns": null,
            "grid_template_rows": null,
            "height": null,
            "justify_content": null,
            "justify_items": null,
            "left": null,
            "margin": null,
            "max_height": null,
            "max_width": null,
            "min_height": null,
            "min_width": null,
            "object_fit": null,
            "object_position": null,
            "order": null,
            "overflow": null,
            "overflow_x": null,
            "overflow_y": null,
            "padding": null,
            "right": null,
            "top": null,
            "visibility": null,
            "width": null
          }
        },
        "b32c2efbd69045f589f4615b0a648a3a": {
          "model_module": "@jupyter-widgets/controls",
          "model_name": "DescriptionStyleModel",
          "model_module_version": "1.5.0",
          "state": {
            "_model_module": "@jupyter-widgets/controls",
            "_model_module_version": "1.5.0",
            "_model_name": "DescriptionStyleModel",
            "_view_count": null,
            "_view_module": "@jupyter-widgets/base",
            "_view_module_version": "1.2.0",
            "_view_name": "StyleView",
            "description_width": ""
          }
        }
      }
    }
  },
  "cells": [
    {
      "cell_type": "markdown",
      "source": [
        "Machine Translation\n",
        "Topic: Education"
      ],
      "metadata": {
        "id": "2jXFK5p3sF8q"
      }
    },
    {
      "cell_type": "markdown",
      "source": [
        "Importing dataset"
      ],
      "metadata": {
        "id": "-_EFBF_otpeV"
      }
    },
    {
      "cell_type": "code",
      "source": [
        "import pandas as pd\n",
        "\n",
        "# Load the dataset\n",
        "\n",
        "df = pd.read_csv(\"/content/sample_data/kenya_education_psas_compile.csv\", encoding='latin-1')\n",
        "\n",
        "# Display basic information and the first few rows\n",
        "df_info = df.info()\n",
        "df_head = df.head()\n",
        "df_shape = df.shape\n",
        "\n",
        "df_info, df_shape, df_head"
      ],
      "metadata": {
        "id": "lo2MgRlQTzqA",
        "colab": {
          "base_uri": "https://localhost:8080/"
        },
        "outputId": "07f5171d-33ea-4521-a87f-737b7765faef"
      },
      "execution_count": null,
      "outputs": [
        {
          "output_type": "stream",
          "name": "stdout",
          "text": [
            "<class 'pandas.core.frame.DataFrame'>\n",
            "RangeIndex: 1103 entries, 0 to 1102\n",
            "Data columns (total 40 columns):\n",
            " #   Column               Non-Null Count  Dtype  \n",
            "---  ------               --------------  -----  \n",
            " 0   PSA_ID               1103 non-null   int64  \n",
            " 1   Sub_Category         1103 non-null   object \n",
            " 2   Title                1103 non-null   object \n",
            " 3   PSAs Description     1103 non-null   object \n",
            " 4   Source               1102 non-null   object \n",
            " 5   Date                 1102 non-null   object \n",
            " 6   Format               1102 non-null   object \n",
            " 7   Topic                1102 non-null   object \n",
            " 8   Original_Language    1102 non-null   object \n",
            " 9   URL                  1100 non-null   object \n",
            " 10  Translation_Swahili  625 non-null    object \n",
            " 11  Translation_Luo      71 non-null     object \n",
            " 12  Unnamed: 12          201 non-null    object \n",
            " 13  Unnamed: 13          0 non-null      float64\n",
            " 14  Unnamed: 14          0 non-null      float64\n",
            " 15  Unnamed: 15          0 non-null      float64\n",
            " 16  Unnamed: 16          0 non-null      float64\n",
            " 17  Unnamed: 17          0 non-null      float64\n",
            " 18  Unnamed: 18          0 non-null      float64\n",
            " 19  Unnamed: 19          0 non-null      float64\n",
            " 20  Unnamed: 20          0 non-null      float64\n",
            " 21  Unnamed: 21          0 non-null      float64\n",
            " 22  Unnamed: 22          0 non-null      float64\n",
            " 23  Unnamed: 23          0 non-null      float64\n",
            " 24  Unnamed: 24          0 non-null      float64\n",
            " 25  Unnamed: 25          0 non-null      float64\n",
            " 26  Unnamed: 26          0 non-null      float64\n",
            " 27  Unnamed: 27          0 non-null      float64\n",
            " 28  Unnamed: 28          0 non-null      float64\n",
            " 29  Unnamed: 29          0 non-null      float64\n",
            " 30  Unnamed: 30          0 non-null      float64\n",
            " 31  Unnamed: 31          0 non-null      float64\n",
            " 32  Unnamed: 32          0 non-null      float64\n",
            " 33  Unnamed: 33          0 non-null      float64\n",
            " 34  Unnamed: 34          0 non-null      float64\n",
            " 35  Unnamed: 35          0 non-null      float64\n",
            " 36  Unnamed: 36          0 non-null      float64\n",
            " 37  Unnamed: 37          0 non-null      float64\n",
            " 38  Unnamed: 38          0 non-null      float64\n",
            " 39  Unnamed: 39          0 non-null      float64\n",
            "dtypes: float64(27), int64(1), object(12)\n",
            "memory usage: 344.8+ KB\n"
          ]
        },
        {
          "output_type": "execute_result",
          "data": {
            "text/plain": [
              "(None,\n",
              " (1103, 40),\n",
              "    PSA_ID         Sub_Category                            Title  \\\n",
              " 0     268  Access to Education  Senior school selection process   \n",
              " 1     269  Access to Education       Mid-year KCSE examinations   \n",
              " 2     270  Access to Education      University admission policy   \n",
              " 3     271  Access to Education        Teacher recruitment drive   \n",
              " 4     272  Access to Education       Teacher career progression   \n",
              " \n",
              "                                     PSAs Description  \\\n",
              " 0  We have worked on guidelines to transition our...   \n",
              " 1  Starting this year, and following extensive st...   \n",
              " 2  The Government has not re-introduced cut-off p...   \n",
              " 3  The Teachers Service Commission (TSC) will nex...   \n",
              " 4  TSC has also agreed to convert all the 26,000 ...   \n",
              " \n",
              "                      Source        Date Format      Topic Original_Language  \\\n",
              " 0          Press conference  24/04/2025   Text  Education           English   \n",
              " 1     Official announcement  09/01/2025   Text  Education           English   \n",
              " 2      Policy clarification  28/02/2025   Text  Education           English   \n",
              " 3  Recruitment announcement  30/09/2024   Text  Education           English   \n",
              " 4     Official announcement  30/11/2024   Text  Education           English   \n",
              " \n",
              "                                                  URL  ... Unnamed: 30  \\\n",
              " 0  https://www.kenyans.co.ke/news/111409-grade-9-...  ...         NaN   \n",
              " 1  https://www.the-star.co.ke/news/realtime/2025-...  ...         NaN   \n",
              " 2  https://www.capitalfm.co.ke/news/2024/12/minis...  ...         NaN   \n",
              " 3  https://nation.africa/kenya/news/education/tsc...  ...         NaN   \n",
              " 4  https://cbc.co.ke/tsc-postpones-recruitment-of...  ...         NaN   \n",
              " \n",
              "   Unnamed: 31 Unnamed: 32  Unnamed: 33  Unnamed: 34  Unnamed: 35  Unnamed: 36  \\\n",
              " 0         NaN         NaN          NaN          NaN          NaN          NaN   \n",
              " 1         NaN         NaN          NaN          NaN          NaN          NaN   \n",
              " 2         NaN         NaN          NaN          NaN          NaN          NaN   \n",
              " 3         NaN         NaN          NaN          NaN          NaN          NaN   \n",
              " 4         NaN         NaN          NaN          NaN          NaN          NaN   \n",
              " \n",
              "    Unnamed: 37  Unnamed: 38  Unnamed: 39  \n",
              " 0          NaN          NaN          NaN  \n",
              " 1          NaN          NaN          NaN  \n",
              " 2          NaN          NaN          NaN  \n",
              " 3          NaN          NaN          NaN  \n",
              " 4          NaN          NaN          NaN  \n",
              " \n",
              " [5 rows x 40 columns])"
            ]
          },
          "metadata": {},
          "execution_count": 33
        }
      ]
    },
    {
      "cell_type": "markdown",
      "source": [
        "###DATA CLEANING\n",
        "\n",
        "The code cleans a dataset by removing duplicates, trimming text, and parsing dates. It corrects invalid entries, standardizes formats, adds a translation status column, performs basic EDA on translation status and topic distribution, then saves the cleaned data to a CSV file."
      ],
      "metadata": {
        "id": "_RdjQdD-vKBq"
      }
    },
    {
      "cell_type": "code",
      "source": [
        "# Clean dataset\n",
        "df_cleaned = df.drop_duplicates()\n",
        "df_cleaned = df_cleaned.apply(lambda x: x.str.strip() if x.dtype == \"object\" else x)\n",
        "df_cleaned['Date'] = pd.to_datetime(df_cleaned['Date'], errors='coerce')\n",
        "\n",
        "# Fix invalid entries\n",
        "df_cleaned['Topic'] = df_cleaned['Topic'].replace('7/28/2025', 'Unknown')\n",
        "df_cleaned['Original_Language'] = df_cleaned['Original_Language'].replace('The Ministry of Education upgraded 12 youth polytechnics to improve vocational training facilities across Kenya', 'English')\n",
        "df_cleaned['Format'] = df_cleaned['Format'].str.lower().replace('english', 'text')\n",
        "\n",
        "# Add status column\n",
        "df_cleaned['status'] = df_cleaned['Translation_Swahili'].apply(lambda x: 'translated' if pd.notnull(x) and x.strip() != '' else 'pending')\n",
        "\n",
        "# EDA: Translation status and topic distribution\n",
        "total_psas = len(df_cleaned)\n",
        "translated_psas = len(df_cleaned[df_cleaned['status'] == 'translated'])\n",
        "pending_psas = len(df_cleaned[df_cleaned['status'] == 'pending'])\n",
        "topic_distribution = df_cleaned[df_cleaned['status'] == 'translated']['Topic'].value_counts().to_string()\n",
        "\n",
        "print(f\"Total PSAs: {total_psas}\")\n",
        "print(f\"Translated PSAs: {translated_psas}\")\n",
        "print(f\"Pending PSAs: {pending_psas}\")\n",
        "print(f\"Topic Distribution of Translated PSAs:\\n{topic_distribution}\")\n",
        "\n",
        "# Save cleaned dataset\n",
        "df_cleaned.to_csv('cleaned_Education_PSAs.csv', index=False)"
      ],
      "metadata": {
        "colab": {
          "base_uri": "https://localhost:8080/"
        },
        "id": "G6hKGkg5djNW",
        "outputId": "77ef36e4-ded3-4326-a231-f4b651a1b315"
      },
      "execution_count": null,
      "outputs": [
        {
          "output_type": "stream",
          "name": "stdout",
          "text": [
            "Total PSAs: 1103\n",
            "Translated PSAs: 625\n",
            "Pending PSAs: 478\n",
            "Topic Distribution of Translated PSAs:\n",
            "Topic\n",
            "Education          552\n",
            "Text                70\n",
            "Governance           1\n",
            "20/03/2024           1\n",
            "Voter Education      1\n"
          ]
        },
        {
          "output_type": "stream",
          "name": "stderr",
          "text": [
            "/tmp/ipython-input-2612597112.py:4: UserWarning: Parsing dates in %d/%m/%Y format when dayfirst=False (the default) was specified. Pass `dayfirst=True` or specify a format to silence this warning.\n",
            "  df_cleaned['Date'] = pd.to_datetime(df_cleaned['Date'], errors='coerce')\n"
          ]
        }
      ]
    },
    {
      "cell_type": "markdown",
      "source": [
        "###PROFILING\n",
        "This code performs data profiling: it checks data types, extracts unique values from categorical columns, validates URL formats, and computes descriptive statistics for the length of title and description fields to understand data quality and structure."
      ],
      "metadata": {
        "id": "2cnp2mKrvf22"
      }
    },
    {
      "cell_type": "code",
      "source": [
        "# Data types\n",
        "data_types = df_cleaned.dtypes\n",
        "\n",
        "# Unique values in categorical fields\n",
        "unique_topics = df_cleaned['Topic'].unique()\n",
        "unique_languages = df_cleaned['Original_Language'].unique()\n",
        "unique_formats = df_cleaned['Format'].unique()\n",
        "\n",
        "# Check URL format and average length of Title/Description\n",
        "url_validity = df_cleaned['URL'].str.startswith(('http://', 'https://')).value_counts()\n",
        "title_len_stats = df_cleaned['Title'].str.len().describe()\n",
        "desc_len_stats = df_cleaned['PSAs Description'].str.len().describe()\n",
        "\n",
        "data_types, unique_topics, unique_languages, unique_formats, url_validity, title_len_stats, desc_len_stats"
      ],
      "metadata": {
        "id": "eGhBIqsyYbk8",
        "colab": {
          "base_uri": "https://localhost:8080/"
        },
        "outputId": "130d1df6-0993-4738-9c66-82c9124e5b4c"
      },
      "execution_count": null,
      "outputs": [
        {
          "output_type": "execute_result",
          "data": {
            "text/plain": [
              "(PSA_ID                          int64\n",
              " Sub_Category                   object\n",
              " Title                          object\n",
              " PSAs Description               object\n",
              " Source                         object\n",
              " Date                   datetime64[ns]\n",
              " Format                         object\n",
              " Topic                          object\n",
              " Original_Language              object\n",
              " URL                            object\n",
              " Translation_Swahili            object\n",
              " Translation_Luo                object\n",
              " Unnamed: 12                    object\n",
              " Unnamed: 13                   float64\n",
              " Unnamed: 14                   float64\n",
              " Unnamed: 15                   float64\n",
              " Unnamed: 16                   float64\n",
              " Unnamed: 17                   float64\n",
              " Unnamed: 18                   float64\n",
              " Unnamed: 19                   float64\n",
              " Unnamed: 20                   float64\n",
              " Unnamed: 21                   float64\n",
              " Unnamed: 22                   float64\n",
              " Unnamed: 23                   float64\n",
              " Unnamed: 24                   float64\n",
              " Unnamed: 25                   float64\n",
              " Unnamed: 26                   float64\n",
              " Unnamed: 27                   float64\n",
              " Unnamed: 28                   float64\n",
              " Unnamed: 29                   float64\n",
              " Unnamed: 30                   float64\n",
              " Unnamed: 31                   float64\n",
              " Unnamed: 32                   float64\n",
              " Unnamed: 33                   float64\n",
              " Unnamed: 34                   float64\n",
              " Unnamed: 35                   float64\n",
              " Unnamed: 36                   float64\n",
              " Unnamed: 37                   float64\n",
              " Unnamed: 38                   float64\n",
              " Unnamed: 39                   float64\n",
              " status                         object\n",
              " dtype: object,\n",
              " array(['Education', 'Text', 'Audio', 'Digital', 'Image', 'Video',\n",
              "        'Governance', 'Game', '20/03/2024', 'Voter Education', nan],\n",
              "       dtype=object),\n",
              " array(['English', 'Text', 'Youth Empowerment', nan], dtype=object),\n",
              " array(['text', 'image', 'video', 'poster', 'radio', 'voter education',\n",
              "        'governance', 'human rights', 'peace & security', 'devolution',\n",
              "        'finance', 'youth empowerment', 'gender equality', '29/12/2023',\n",
              "        'youth agenda', '22/03/2024', 'education', nan], dtype=object),\n",
              " URL\n",
              " True     1095\n",
              " False       5\n",
              " Name: count, dtype: int64,\n",
              " count    1103.000000\n",
              " mean       36.137806\n",
              " std        15.020888\n",
              " min        12.000000\n",
              " 25%        25.000000\n",
              " 50%        33.000000\n",
              " 75%        46.000000\n",
              " max       109.000000\n",
              " Name: Title, dtype: float64,\n",
              " count    1103.000000\n",
              " mean      103.636446\n",
              " std        54.632639\n",
              " min        17.000000\n",
              " 25%        57.000000\n",
              " 50%       100.000000\n",
              " 75%       138.500000\n",
              " max       378.000000\n",
              " Name: PSAs Description, dtype: float64)"
            ]
          },
          "metadata": {},
          "execution_count": 38
        }
      ]
    },
    {
      "cell_type": "markdown",
      "source": [
        "###DATA VALIDATION\n",
        "The code loads the cleaned dataset and validates key fields against predefined rules—checking for invalid topics, languages, formats, short descriptions, missing dates, and malformed URLs. It summarizes the number of violations for each rule and saves flagged records to separate CSV files for review"
      ],
      "metadata": {
        "id": "6Fh3S_tNv84_"
      }
    },
    {
      "cell_type": "code",
      "source": [
        "import pandas as pd\n",
        "\n",
        "# Load the cleaned dataset\n",
        "df_cleaned = pd.read_csv(\"cleaned_Education_PSAs.csv\", encoding=\"ISO-8859-1\")\n",
        "\n",
        "# Normalize relevant fields\n",
        "df_cleaned['Topic'] = df_cleaned['Topic'].astype(str).str.strip()\n",
        "df_cleaned['Original_Language'] = df_cleaned['Original_Language'].astype(str).str.strip().str.capitalize()\n",
        "df_cleaned['Format'] = df_cleaned['Format'].astype(str).str.lower().str.strip()\n",
        "df_cleaned['PSAs Description'] = df_cleaned['PSAs Description'].astype(str).str.strip()\n",
        "df_cleaned['URL'] = df_cleaned['URL'].astype(str).str.strip()\n",
        "\n",
        "# Rule 1: Invalid topics (e.g., date accidentally recorded as topic)\n",
        "invalid_topic_rows = df_cleaned[df_cleaned['Topic'].str.match(r'\\d{1,2}/\\d{1,2}/\\d{4}')]\n",
        "\n",
        "# Rule 2: Invalid languages\n",
        "valid_languages = ['English', 'Swahili']\n",
        "invalid_language_rows = df_cleaned[~df_cleaned['Original_Language'].isin(valid_languages)]\n",
        "\n",
        "# Rule 3: Invalid formats\n",
        "valid_formats = ['text', 'image/poster', 'video', 'audio']\n",
        "invalid_format_rows = df_cleaned[~df_cleaned['Format'].isin(valid_formats)]\n",
        "\n",
        "# Rule 4: Short descriptions (<20 characters)\n",
        "short_description_rows = df_cleaned[df_cleaned['PSAs Description'].str.len() < 20]\n",
        "\n",
        "# Rule 5: Missing publication date\n",
        "df_cleaned['Date'] = pd.to_datetime(df_cleaned['Date'], errors='coerce')\n",
        "missing_date_rows = df_cleaned[df_cleaned['Date'].isnull()]\n",
        "\n",
        "# Rule 6: Invalid URLs\n",
        "invalid_url_rows = df_cleaned[~df_cleaned['URL'].str.startswith(('http://', 'https://'))]\n",
        "\n",
        "# Output the counts for each rule violation\n",
        "validation_summary = {\n",
        "    \"Invalid Topic Rows\": len(invalid_topic_rows),\n",
        "    \"Invalid Language Rows\": len(invalid_language_rows),\n",
        "    \"Invalid Format Rows\": len(invalid_format_rows),\n",
        "    \"Short Descriptions (<20 chars)\": len(short_description_rows),\n",
        "    \"Missing Publication Dates\": len(missing_date_rows),\n",
        "    \"Invalid URLs\": len(invalid_url_rows),\n",
        "}\n",
        "\n",
        "# Print summary\n",
        "print(\"Validation Summary:\")\n",
        "for k, v in validation_summary.items():\n",
        "    print(f\"{k}: {v}\")\n",
        "\n",
        "# Optional: Save flagged rows to CSVs for review\n",
        "invalid_topic_rows.to_csv(\"flagged_invalid_topics.csv\", index=False)\n",
        "invalid_language_rows.to_csv(\"flagged_invalid_languages.csv\", index=False)\n",
        "invalid_format_rows.to_csv(\"flagged_invalid_formats.csv\", index=False)\n",
        "short_description_rows.to_csv(\"flagged_short_descriptions.csv\", index=False)\n",
        "missing_date_rows.to_csv(\"flagged_missing_dates.csv\", index=False)\n",
        "invalid_url_rows.to_csv(\"flagged_invalid_urls.csv\", index=False)"
      ],
      "metadata": {
        "id": "uBGtui5eZqd-",
        "colab": {
          "base_uri": "https://localhost:8080/"
        },
        "outputId": "62aeebca-38d4-4acc-c45a-496e75beea03"
      },
      "execution_count": null,
      "outputs": [
        {
          "output_type": "stream",
          "name": "stdout",
          "text": [
            "Validation Summary:\n",
            "Invalid Topic Rows: 1\n",
            "Invalid Language Rows: 4\n",
            "Invalid Format Rows: 471\n",
            "Short Descriptions (<20 chars): 1\n",
            "Missing Publication Dates: 280\n",
            "Invalid URLs: 8\n"
          ]
        }
      ]
    },
    {
      "cell_type": "markdown",
      "source": [
        "Translation using AFROLM"
      ],
      "metadata": {
        "id": "r8bLV3Nwpw-7"
      }
    },
    {
      "cell_type": "code",
      "source": [
        "!pip install transformers datasets torch sentencepiece"
      ],
      "metadata": {
        "id": "V2CCRCTrZ5Qi",
        "colab": {
          "base_uri": "https://localhost:8080/"
        },
        "outputId": "4729dbb2-6c8a-403e-8cb8-a435101df7e0"
      },
      "execution_count": null,
      "outputs": [
        {
          "output_type": "stream",
          "name": "stdout",
          "text": [
            "Requirement already satisfied: transformers in /usr/local/lib/python3.11/dist-packages (4.55.0)\n",
            "Requirement already satisfied: datasets in /usr/local/lib/python3.11/dist-packages (4.0.0)\n",
            "Requirement already satisfied: torch in /usr/local/lib/python3.11/dist-packages (2.6.0+cu124)\n",
            "Requirement already satisfied: sentencepiece in /usr/local/lib/python3.11/dist-packages (0.2.0)\n",
            "Requirement already satisfied: filelock in /usr/local/lib/python3.11/dist-packages (from transformers) (3.18.0)\n",
            "Requirement already satisfied: huggingface-hub<1.0,>=0.34.0 in /usr/local/lib/python3.11/dist-packages (from transformers) (0.34.1)\n",
            "Requirement already satisfied: numpy>=1.17 in /usr/local/lib/python3.11/dist-packages (from transformers) (2.0.2)\n",
            "Requirement already satisfied: packaging>=20.0 in /usr/local/lib/python3.11/dist-packages (from transformers) (25.0)\n",
            "Requirement already satisfied: pyyaml>=5.1 in /usr/local/lib/python3.11/dist-packages (from transformers) (6.0.2)\n",
            "Requirement already satisfied: regex!=2019.12.17 in /usr/local/lib/python3.11/dist-packages (from transformers) (2024.11.6)\n",
            "Requirement already satisfied: requests in /usr/local/lib/python3.11/dist-packages (from transformers) (2.32.3)\n",
            "Requirement already satisfied: tokenizers<0.22,>=0.21 in /usr/local/lib/python3.11/dist-packages (from transformers) (0.21.2)\n",
            "Requirement already satisfied: safetensors>=0.4.3 in /usr/local/lib/python3.11/dist-packages (from transformers) (0.5.3)\n",
            "Requirement already satisfied: tqdm>=4.27 in /usr/local/lib/python3.11/dist-packages (from transformers) (4.67.1)\n",
            "Requirement already satisfied: pyarrow>=15.0.0 in /usr/local/lib/python3.11/dist-packages (from datasets) (18.1.0)\n",
            "Requirement already satisfied: dill<0.3.9,>=0.3.0 in /usr/local/lib/python3.11/dist-packages (from datasets) (0.3.8)\n",
            "Requirement already satisfied: pandas in /usr/local/lib/python3.11/dist-packages (from datasets) (2.2.2)\n",
            "Requirement already satisfied: xxhash in /usr/local/lib/python3.11/dist-packages (from datasets) (3.5.0)\n",
            "Requirement already satisfied: multiprocess<0.70.17 in /usr/local/lib/python3.11/dist-packages (from datasets) (0.70.16)\n",
            "Requirement already satisfied: fsspec<=2025.3.0,>=2023.1.0 in /usr/local/lib/python3.11/dist-packages (from fsspec[http]<=2025.3.0,>=2023.1.0->datasets) (2025.3.0)\n",
            "Requirement already satisfied: typing-extensions>=4.10.0 in /usr/local/lib/python3.11/dist-packages (from torch) (4.14.1)\n",
            "Requirement already satisfied: networkx in /usr/local/lib/python3.11/dist-packages (from torch) (3.5)\n",
            "Requirement already satisfied: jinja2 in /usr/local/lib/python3.11/dist-packages (from torch) (3.1.6)\n",
            "Requirement already satisfied: nvidia-cuda-nvrtc-cu12==12.4.127 in /usr/local/lib/python3.11/dist-packages (from torch) (12.4.127)\n",
            "Requirement already satisfied: nvidia-cuda-runtime-cu12==12.4.127 in /usr/local/lib/python3.11/dist-packages (from torch) (12.4.127)\n",
            "Requirement already satisfied: nvidia-cuda-cupti-cu12==12.4.127 in /usr/local/lib/python3.11/dist-packages (from torch) (12.4.127)\n",
            "Requirement already satisfied: nvidia-cudnn-cu12==9.1.0.70 in /usr/local/lib/python3.11/dist-packages (from torch) (9.1.0.70)\n",
            "Requirement already satisfied: nvidia-cublas-cu12==12.4.5.8 in /usr/local/lib/python3.11/dist-packages (from torch) (12.4.5.8)\n",
            "Requirement already satisfied: nvidia-cufft-cu12==11.2.1.3 in /usr/local/lib/python3.11/dist-packages (from torch) (11.2.1.3)\n",
            "Requirement already satisfied: nvidia-curand-cu12==10.3.5.147 in /usr/local/lib/python3.11/dist-packages (from torch) (10.3.5.147)\n",
            "Requirement already satisfied: nvidia-cusolver-cu12==11.6.1.9 in /usr/local/lib/python3.11/dist-packages (from torch) (11.6.1.9)\n",
            "Requirement already satisfied: nvidia-cusparse-cu12==12.3.1.170 in /usr/local/lib/python3.11/dist-packages (from torch) (12.3.1.170)\n",
            "Requirement already satisfied: nvidia-cusparselt-cu12==0.6.2 in /usr/local/lib/python3.11/dist-packages (from torch) (0.6.2)\n",
            "Requirement already satisfied: nvidia-nccl-cu12==2.21.5 in /usr/local/lib/python3.11/dist-packages (from torch) (2.21.5)\n",
            "Requirement already satisfied: nvidia-nvtx-cu12==12.4.127 in /usr/local/lib/python3.11/dist-packages (from torch) (12.4.127)\n",
            "Requirement already satisfied: nvidia-nvjitlink-cu12==12.4.127 in /usr/local/lib/python3.11/dist-packages (from torch) (12.4.127)\n",
            "Requirement already satisfied: triton==3.2.0 in /usr/local/lib/python3.11/dist-packages (from torch) (3.2.0)\n",
            "Requirement already satisfied: sympy==1.13.1 in /usr/local/lib/python3.11/dist-packages (from torch) (1.13.1)\n",
            "Requirement already satisfied: mpmath<1.4,>=1.1.0 in /usr/local/lib/python3.11/dist-packages (from sympy==1.13.1->torch) (1.3.0)\n",
            "Requirement already satisfied: aiohttp!=4.0.0a0,!=4.0.0a1 in /usr/local/lib/python3.11/dist-packages (from fsspec[http]<=2025.3.0,>=2023.1.0->datasets) (3.12.14)\n",
            "Requirement already satisfied: hf-xet<2.0.0,>=1.1.3 in /usr/local/lib/python3.11/dist-packages (from huggingface-hub<1.0,>=0.34.0->transformers) (1.1.5)\n",
            "Requirement already satisfied: charset-normalizer<4,>=2 in /usr/local/lib/python3.11/dist-packages (from requests->transformers) (3.4.2)\n",
            "Requirement already satisfied: idna<4,>=2.5 in /usr/local/lib/python3.11/dist-packages (from requests->transformers) (3.10)\n",
            "Requirement already satisfied: urllib3<3,>=1.21.1 in /usr/local/lib/python3.11/dist-packages (from requests->transformers) (2.5.0)\n",
            "Requirement already satisfied: certifi>=2017.4.17 in /usr/local/lib/python3.11/dist-packages (from requests->transformers) (2025.7.14)\n",
            "Requirement already satisfied: MarkupSafe>=2.0 in /usr/local/lib/python3.11/dist-packages (from jinja2->torch) (3.0.2)\n",
            "Requirement already satisfied: python-dateutil>=2.8.2 in /usr/local/lib/python3.11/dist-packages (from pandas->datasets) (2.9.0.post0)\n",
            "Requirement already satisfied: pytz>=2020.1 in /usr/local/lib/python3.11/dist-packages (from pandas->datasets) (2025.2)\n",
            "Requirement already satisfied: tzdata>=2022.7 in /usr/local/lib/python3.11/dist-packages (from pandas->datasets) (2025.2)\n",
            "Requirement already satisfied: aiohappyeyeballs>=2.5.0 in /usr/local/lib/python3.11/dist-packages (from aiohttp!=4.0.0a0,!=4.0.0a1->fsspec[http]<=2025.3.0,>=2023.1.0->datasets) (2.6.1)\n",
            "Requirement already satisfied: aiosignal>=1.4.0 in /usr/local/lib/python3.11/dist-packages (from aiohttp!=4.0.0a0,!=4.0.0a1->fsspec[http]<=2025.3.0,>=2023.1.0->datasets) (1.4.0)\n",
            "Requirement already satisfied: attrs>=17.3.0 in /usr/local/lib/python3.11/dist-packages (from aiohttp!=4.0.0a0,!=4.0.0a1->fsspec[http]<=2025.3.0,>=2023.1.0->datasets) (25.3.0)\n",
            "Requirement already satisfied: frozenlist>=1.1.1 in /usr/local/lib/python3.11/dist-packages (from aiohttp!=4.0.0a0,!=4.0.0a1->fsspec[http]<=2025.3.0,>=2023.1.0->datasets) (1.7.0)\n",
            "Requirement already satisfied: multidict<7.0,>=4.5 in /usr/local/lib/python3.11/dist-packages (from aiohttp!=4.0.0a0,!=4.0.0a1->fsspec[http]<=2025.3.0,>=2023.1.0->datasets) (6.6.3)\n",
            "Requirement already satisfied: propcache>=0.2.0 in /usr/local/lib/python3.11/dist-packages (from aiohttp!=4.0.0a0,!=4.0.0a1->fsspec[http]<=2025.3.0,>=2023.1.0->datasets) (0.3.2)\n",
            "Requirement already satisfied: yarl<2.0,>=1.17.0 in /usr/local/lib/python3.11/dist-packages (from aiohttp!=4.0.0a0,!=4.0.0a1->fsspec[http]<=2025.3.0,>=2023.1.0->datasets) (1.20.1)\n",
            "Requirement already satisfied: six>=1.5 in /usr/local/lib/python3.11/dist-packages (from python-dateutil>=2.8.2->pandas->datasets) (1.17.0)\n"
          ]
        }
      ]
    },
    {
      "cell_type": "markdown",
      "source": [
        " Loading AfroLM"
      ],
      "metadata": {
        "id": "hBoMYoQjpqQd"
      }
    },
    {
      "cell_type": "code",
      "source": [
        "pip install transformers"
      ],
      "metadata": {
        "id": "PdH-PsTTaIgi",
        "colab": {
          "base_uri": "https://localhost:8080/"
        },
        "outputId": "54d74300-cc7f-4293-ce71-d045587ca37a"
      },
      "execution_count": null,
      "outputs": [
        {
          "output_type": "stream",
          "name": "stdout",
          "text": [
            "Requirement already satisfied: transformers in /usr/local/lib/python3.11/dist-packages (4.55.0)\n",
            "Requirement already satisfied: filelock in /usr/local/lib/python3.11/dist-packages (from transformers) (3.18.0)\n",
            "Requirement already satisfied: huggingface-hub<1.0,>=0.34.0 in /usr/local/lib/python3.11/dist-packages (from transformers) (0.34.1)\n",
            "Requirement already satisfied: numpy>=1.17 in /usr/local/lib/python3.11/dist-packages (from transformers) (2.0.2)\n",
            "Requirement already satisfied: packaging>=20.0 in /usr/local/lib/python3.11/dist-packages (from transformers) (25.0)\n",
            "Requirement already satisfied: pyyaml>=5.1 in /usr/local/lib/python3.11/dist-packages (from transformers) (6.0.2)\n",
            "Requirement already satisfied: regex!=2019.12.17 in /usr/local/lib/python3.11/dist-packages (from transformers) (2024.11.6)\n",
            "Requirement already satisfied: requests in /usr/local/lib/python3.11/dist-packages (from transformers) (2.32.3)\n",
            "Requirement already satisfied: tokenizers<0.22,>=0.21 in /usr/local/lib/python3.11/dist-packages (from transformers) (0.21.2)\n",
            "Requirement already satisfied: safetensors>=0.4.3 in /usr/local/lib/python3.11/dist-packages (from transformers) (0.5.3)\n",
            "Requirement already satisfied: tqdm>=4.27 in /usr/local/lib/python3.11/dist-packages (from transformers) (4.67.1)\n",
            "Requirement already satisfied: fsspec>=2023.5.0 in /usr/local/lib/python3.11/dist-packages (from huggingface-hub<1.0,>=0.34.0->transformers) (2025.3.0)\n",
            "Requirement already satisfied: typing-extensions>=3.7.4.3 in /usr/local/lib/python3.11/dist-packages (from huggingface-hub<1.0,>=0.34.0->transformers) (4.14.1)\n",
            "Requirement already satisfied: hf-xet<2.0.0,>=1.1.3 in /usr/local/lib/python3.11/dist-packages (from huggingface-hub<1.0,>=0.34.0->transformers) (1.1.5)\n",
            "Requirement already satisfied: charset-normalizer<4,>=2 in /usr/local/lib/python3.11/dist-packages (from requests->transformers) (3.4.2)\n",
            "Requirement already satisfied: idna<4,>=2.5 in /usr/local/lib/python3.11/dist-packages (from requests->transformers) (3.10)\n",
            "Requirement already satisfied: urllib3<3,>=1.21.1 in /usr/local/lib/python3.11/dist-packages (from requests->transformers) (2.5.0)\n",
            "Requirement already satisfied: certifi>=2017.4.17 in /usr/local/lib/python3.11/dist-packages (from requests->transformers) (2025.7.14)\n"
          ]
        }
      ]
    },
    {
      "cell_type": "code",
      "source": [
        "!pip install torch torchvision torchaudio"
      ],
      "metadata": {
        "id": "qZtuT88raiN3",
        "colab": {
          "base_uri": "https://localhost:8080/"
        },
        "outputId": "0e1f7908-0c06-4da4-b30a-86abf798bd38"
      },
      "execution_count": null,
      "outputs": [
        {
          "output_type": "stream",
          "name": "stdout",
          "text": [
            "Requirement already satisfied: torch in /usr/local/lib/python3.11/dist-packages (2.6.0+cu124)\n",
            "Requirement already satisfied: torchvision in /usr/local/lib/python3.11/dist-packages (0.21.0+cu124)\n",
            "Requirement already satisfied: torchaudio in /usr/local/lib/python3.11/dist-packages (2.6.0+cu124)\n",
            "Requirement already satisfied: filelock in /usr/local/lib/python3.11/dist-packages (from torch) (3.18.0)\n",
            "Requirement already satisfied: typing-extensions>=4.10.0 in /usr/local/lib/python3.11/dist-packages (from torch) (4.14.1)\n",
            "Requirement already satisfied: networkx in /usr/local/lib/python3.11/dist-packages (from torch) (3.5)\n",
            "Requirement already satisfied: jinja2 in /usr/local/lib/python3.11/dist-packages (from torch) (3.1.6)\n",
            "Requirement already satisfied: fsspec in /usr/local/lib/python3.11/dist-packages (from torch) (2025.3.0)\n",
            "Requirement already satisfied: nvidia-cuda-nvrtc-cu12==12.4.127 in /usr/local/lib/python3.11/dist-packages (from torch) (12.4.127)\n",
            "Requirement already satisfied: nvidia-cuda-runtime-cu12==12.4.127 in /usr/local/lib/python3.11/dist-packages (from torch) (12.4.127)\n",
            "Requirement already satisfied: nvidia-cuda-cupti-cu12==12.4.127 in /usr/local/lib/python3.11/dist-packages (from torch) (12.4.127)\n",
            "Requirement already satisfied: nvidia-cudnn-cu12==9.1.0.70 in /usr/local/lib/python3.11/dist-packages (from torch) (9.1.0.70)\n",
            "Requirement already satisfied: nvidia-cublas-cu12==12.4.5.8 in /usr/local/lib/python3.11/dist-packages (from torch) (12.4.5.8)\n",
            "Requirement already satisfied: nvidia-cufft-cu12==11.2.1.3 in /usr/local/lib/python3.11/dist-packages (from torch) (11.2.1.3)\n",
            "Requirement already satisfied: nvidia-curand-cu12==10.3.5.147 in /usr/local/lib/python3.11/dist-packages (from torch) (10.3.5.147)\n",
            "Requirement already satisfied: nvidia-cusolver-cu12==11.6.1.9 in /usr/local/lib/python3.11/dist-packages (from torch) (11.6.1.9)\n",
            "Requirement already satisfied: nvidia-cusparse-cu12==12.3.1.170 in /usr/local/lib/python3.11/dist-packages (from torch) (12.3.1.170)\n",
            "Requirement already satisfied: nvidia-cusparselt-cu12==0.6.2 in /usr/local/lib/python3.11/dist-packages (from torch) (0.6.2)\n",
            "Requirement already satisfied: nvidia-nccl-cu12==2.21.5 in /usr/local/lib/python3.11/dist-packages (from torch) (2.21.5)\n",
            "Requirement already satisfied: nvidia-nvtx-cu12==12.4.127 in /usr/local/lib/python3.11/dist-packages (from torch) (12.4.127)\n",
            "Requirement already satisfied: nvidia-nvjitlink-cu12==12.4.127 in /usr/local/lib/python3.11/dist-packages (from torch) (12.4.127)\n",
            "Requirement already satisfied: triton==3.2.0 in /usr/local/lib/python3.11/dist-packages (from torch) (3.2.0)\n",
            "Requirement already satisfied: sympy==1.13.1 in /usr/local/lib/python3.11/dist-packages (from torch) (1.13.1)\n",
            "Requirement already satisfied: mpmath<1.4,>=1.1.0 in /usr/local/lib/python3.11/dist-packages (from sympy==1.13.1->torch) (1.3.0)\n",
            "Requirement already satisfied: numpy in /usr/local/lib/python3.11/dist-packages (from torchvision) (2.0.2)\n",
            "Requirement already satisfied: pillow!=8.3.*,>=5.3.0 in /usr/local/lib/python3.11/dist-packages (from torchvision) (11.3.0)\n",
            "Requirement already satisfied: MarkupSafe>=2.0 in /usr/local/lib/python3.11/dist-packages (from jinja2->torch) (3.0.2)\n"
          ]
        }
      ]
    },
    {
      "cell_type": "markdown",
      "source": [
        "###MODEL LOADING\n",
        "Loads the pre-trained NLLB-200 distilled 600M model and tokenizer from Hugging Face, designed for multilingual translation, to enable sequence-to-sequence translation tasks, such as translating PSAs into Swahili."
      ],
      "metadata": {
        "id": "AgKD8u3OwYfi"
      }
    },
    {
      "cell_type": "code",
      "source": [
        "from transformers import AutoTokenizer, AutoModelForSeq2SeqLM\n",
        "\n",
        "# Load AfroLM base model and tokenizer\n",
        "model_name = \"facebook/nllb-200-distilled-600M\"\n",
        "tokenizer = AutoTokenizer.from_pretrained(model_name)\n",
        "model = AutoModelForSeq2SeqLM.from_pretrained(model_name)"
      ],
      "metadata": {
        "id": "3GHCiOXceq3C"
      },
      "execution_count": null,
      "outputs": []
    },
    {
      "cell_type": "markdown",
      "source": [
        "##Translating the Functions\n",
        "Defines a function that batches and translates a list of texts using the NLLB-200 model. It tokenizes input text, generates translations with the model, and decodes the output into readable translated strings, skipping special tokens"
      ],
      "metadata": {
        "id": "gc_lulL0pNMF"
      }
    },
    {
      "cell_type": "code",
      "source": [
        "def translate_text(text_list):\n",
        "    # Tokenize the input texts\n",
        "    tokens = tokenizer.prepare_seq2seq_batch(text_list, return_tensors=\"pt\", padding=True)\n",
        "    # Generate translations\n",
        "    translated = model.generate(**tokens)\n",
        "    # Decode translations\n",
        "    return [tokenizer.decode(t, skip_special_tokens=True) for t in translated]"
      ],
      "metadata": {
        "id": "7_K3NEdPbG-M"
      },
      "execution_count": null,
      "outputs": []
    },
    {
      "cell_type": "markdown",
      "source": [
        "###TRANSLATION SETUP\n",
        "Loads a pre-trained English-to-Swahili MarianMT model and tokenizer. Defines a function to translate text batches by tokenizing, generating translations using the model, and decoding results, ensuring efficient and accurate translation of English texts into Swahili."
      ],
      "metadata": {
        "id": "sxWAFr1ApCPn"
      }
    },
    {
      "cell_type": "code",
      "source": [
        "from transformers import MarianMTModel, MarianTokenizer\n",
        "import torch\n",
        "\n",
        "# Load MarianMT model and tokenizer\n",
        "model_name = \"Helsinki-NLP/opus-mt-en-sw\"\n",
        "tokenizer = MarianTokenizer.from_pretrained(model_name)\n",
        "model = MarianMTModel.from_pretrained(model_name)\n",
        "\n",
        "def translate_text(texts):\n",
        "    # Handle empty list\n",
        "    if not texts:\n",
        "        return []\n",
        "\n",
        "    # Tokenize input\n",
        "    batch = tokenizer(texts, return_tensors=\"pt\", padding=True, truncation=True)\n",
        "\n",
        "    # Generate translations\n",
        "    with torch.no_grad():\n",
        "        generated_ids = model.generate(**batch)\n",
        "\n",
        "    # Decode translations\n",
        "    translations = tokenizer.batch_decode(generated_ids, skip_special_tokens=True)\n",
        "    return translations"
      ],
      "metadata": {
        "id": "ZpFQxppxbNeB",
        "colab": {
          "base_uri": "https://localhost:8080/"
        },
        "outputId": "b73ef658-d475-4809-95b6-aa62ed2aceda"
      },
      "execution_count": null,
      "outputs": [
        {
          "output_type": "stream",
          "name": "stderr",
          "text": [
            "/usr/local/lib/python3.11/dist-packages/transformers/models/marian/tokenization_marian.py:175: UserWarning: Recommended: pip install sacremoses.\n",
            "  warnings.warn(\"Recommended: pip install sacremoses.\")\n"
          ]
        }
      ]
    },
    {
      "cell_type": "markdown",
      "source": [
        "### MOCK TRANSLATION\n",
        "A placeholder translation function simulates translating missing Swahili descriptions by prefixing text with \"[Translated]\". It updates the dataset with mock translations and saves the result, preparing a structure for real translation integration."
      ],
      "metadata": {
        "id": "qMMjpxx8xMUp"
      }
    },
    {
      "cell_type": "code",
      "source": [
        "import pandas as pd\n",
        "\n",
        "# Dummy translation function (replace with real API if needed)\n",
        "def translate_text(texts):\n",
        "    # Simulate translation by prepending '[Translated]'\n",
        "    return [f\"[Translated] {text}\" for text in texts]\n",
        "\n",
        "# Load your cleaned dataset\n",
        "df = pd.read_csv(\"cleaned_Education_PSAs.csv\")\n",
        "\n",
        "# Filter rows where Translation_Swahili is missing or empty\n",
        "to_translate = df[df['Translation_Swahili'].isnull() | (df['Translation_Swahili'].str.strip() == '')]['PSAs Description'].tolist()\n",
        "\n",
        "# Perform translation\n",
        "translated_texts = translate_text(to_translate)\n",
        "\n",
        "# Update the DataFrame with translated text\n",
        "df.loc[df['Translation_Swahili'].isnull() | (df['Translation_Swahili'].str.strip() == ''), 'Translation_Swahili'] = translated_texts\n",
        "\n",
        "# Save the updated dataset\n",
        "df.to_csv(\"Education PSAs - Translated.csv\", index=False)\n",
        "\n",
        "print(\"Translation complete. Updated file saved as 'Education PSAs - Translated.csv'.\")\n"
      ],
      "metadata": {
        "id": "7B5TrUE-dvsT",
        "colab": {
          "base_uri": "https://localhost:8080/"
        },
        "outputId": "ea266bb5-c9e8-45d3-a574-ad8235a5dfdf"
      },
      "execution_count": null,
      "outputs": [
        {
          "output_type": "stream",
          "name": "stdout",
          "text": [
            "Translation complete. Updated file saved as 'Education PSAs - Translated.csv'.\n"
          ]
        }
      ]
    },
    {
      "cell_type": "markdown",
      "source": [
        "**Modelling process**"
      ],
      "metadata": {
        "id": "KO2jhhQyo6ng"
      }
    },
    {
      "cell_type": "code",
      "source": [
        "!pip install transformers datasets sentencepiece sacrebleu evaluate"
      ],
      "metadata": {
        "id": "RjNUZN_PcFUb",
        "colab": {
          "base_uri": "https://localhost:8080/"
        },
        "outputId": "fa39b189-d301-4ed5-a522-64a64dee7389"
      },
      "execution_count": null,
      "outputs": [
        {
          "output_type": "stream",
          "name": "stdout",
          "text": [
            "Requirement already satisfied: transformers in /usr/local/lib/python3.11/dist-packages (4.55.0)\n",
            "Requirement already satisfied: datasets in /usr/local/lib/python3.11/dist-packages (4.0.0)\n",
            "Requirement already satisfied: sentencepiece in /usr/local/lib/python3.11/dist-packages (0.2.0)\n",
            "Requirement already satisfied: sacrebleu in /usr/local/lib/python3.11/dist-packages (2.5.1)\n",
            "Requirement already satisfied: evaluate in /usr/local/lib/python3.11/dist-packages (0.4.5)\n",
            "Requirement already satisfied: filelock in /usr/local/lib/python3.11/dist-packages (from transformers) (3.18.0)\n",
            "Requirement already satisfied: huggingface-hub<1.0,>=0.34.0 in /usr/local/lib/python3.11/dist-packages (from transformers) (0.34.1)\n",
            "Requirement already satisfied: numpy>=1.17 in /usr/local/lib/python3.11/dist-packages (from transformers) (2.0.2)\n",
            "Requirement already satisfied: packaging>=20.0 in /usr/local/lib/python3.11/dist-packages (from transformers) (25.0)\n",
            "Requirement already satisfied: pyyaml>=5.1 in /usr/local/lib/python3.11/dist-packages (from transformers) (6.0.2)\n",
            "Requirement already satisfied: regex!=2019.12.17 in /usr/local/lib/python3.11/dist-packages (from transformers) (2024.11.6)\n",
            "Requirement already satisfied: requests in /usr/local/lib/python3.11/dist-packages (from transformers) (2.32.3)\n",
            "Requirement already satisfied: tokenizers<0.22,>=0.21 in /usr/local/lib/python3.11/dist-packages (from transformers) (0.21.2)\n",
            "Requirement already satisfied: safetensors>=0.4.3 in /usr/local/lib/python3.11/dist-packages (from transformers) (0.5.3)\n",
            "Requirement already satisfied: tqdm>=4.27 in /usr/local/lib/python3.11/dist-packages (from transformers) (4.67.1)\n",
            "Requirement already satisfied: pyarrow>=15.0.0 in /usr/local/lib/python3.11/dist-packages (from datasets) (18.1.0)\n",
            "Requirement already satisfied: dill<0.3.9,>=0.3.0 in /usr/local/lib/python3.11/dist-packages (from datasets) (0.3.8)\n",
            "Requirement already satisfied: pandas in /usr/local/lib/python3.11/dist-packages (from datasets) (2.2.2)\n",
            "Requirement already satisfied: xxhash in /usr/local/lib/python3.11/dist-packages (from datasets) (3.5.0)\n",
            "Requirement already satisfied: multiprocess<0.70.17 in /usr/local/lib/python3.11/dist-packages (from datasets) (0.70.16)\n",
            "Requirement already satisfied: fsspec<=2025.3.0,>=2023.1.0 in /usr/local/lib/python3.11/dist-packages (from fsspec[http]<=2025.3.0,>=2023.1.0->datasets) (2025.3.0)\n",
            "Requirement already satisfied: portalocker in /usr/local/lib/python3.11/dist-packages (from sacrebleu) (3.2.0)\n",
            "Requirement already satisfied: tabulate>=0.8.9 in /usr/local/lib/python3.11/dist-packages (from sacrebleu) (0.9.0)\n",
            "Requirement already satisfied: colorama in /usr/local/lib/python3.11/dist-packages (from sacrebleu) (0.4.6)\n",
            "Requirement already satisfied: lxml in /usr/local/lib/python3.11/dist-packages (from sacrebleu) (5.4.0)\n",
            "Requirement already satisfied: aiohttp!=4.0.0a0,!=4.0.0a1 in /usr/local/lib/python3.11/dist-packages (from fsspec[http]<=2025.3.0,>=2023.1.0->datasets) (3.12.14)\n",
            "Requirement already satisfied: typing-extensions>=3.7.4.3 in /usr/local/lib/python3.11/dist-packages (from huggingface-hub<1.0,>=0.34.0->transformers) (4.14.1)\n",
            "Requirement already satisfied: hf-xet<2.0.0,>=1.1.3 in /usr/local/lib/python3.11/dist-packages (from huggingface-hub<1.0,>=0.34.0->transformers) (1.1.5)\n",
            "Requirement already satisfied: charset-normalizer<4,>=2 in /usr/local/lib/python3.11/dist-packages (from requests->transformers) (3.4.2)\n",
            "Requirement already satisfied: idna<4,>=2.5 in /usr/local/lib/python3.11/dist-packages (from requests->transformers) (3.10)\n",
            "Requirement already satisfied: urllib3<3,>=1.21.1 in /usr/local/lib/python3.11/dist-packages (from requests->transformers) (2.5.0)\n",
            "Requirement already satisfied: certifi>=2017.4.17 in /usr/local/lib/python3.11/dist-packages (from requests->transformers) (2025.7.14)\n",
            "Requirement already satisfied: python-dateutil>=2.8.2 in /usr/local/lib/python3.11/dist-packages (from pandas->datasets) (2.9.0.post0)\n",
            "Requirement already satisfied: pytz>=2020.1 in /usr/local/lib/python3.11/dist-packages (from pandas->datasets) (2025.2)\n",
            "Requirement already satisfied: tzdata>=2022.7 in /usr/local/lib/python3.11/dist-packages (from pandas->datasets) (2025.2)\n",
            "Requirement already satisfied: aiohappyeyeballs>=2.5.0 in /usr/local/lib/python3.11/dist-packages (from aiohttp!=4.0.0a0,!=4.0.0a1->fsspec[http]<=2025.3.0,>=2023.1.0->datasets) (2.6.1)\n",
            "Requirement already satisfied: aiosignal>=1.4.0 in /usr/local/lib/python3.11/dist-packages (from aiohttp!=4.0.0a0,!=4.0.0a1->fsspec[http]<=2025.3.0,>=2023.1.0->datasets) (1.4.0)\n",
            "Requirement already satisfied: attrs>=17.3.0 in /usr/local/lib/python3.11/dist-packages (from aiohttp!=4.0.0a0,!=4.0.0a1->fsspec[http]<=2025.3.0,>=2023.1.0->datasets) (25.3.0)\n",
            "Requirement already satisfied: frozenlist>=1.1.1 in /usr/local/lib/python3.11/dist-packages (from aiohttp!=4.0.0a0,!=4.0.0a1->fsspec[http]<=2025.3.0,>=2023.1.0->datasets) (1.7.0)\n",
            "Requirement already satisfied: multidict<7.0,>=4.5 in /usr/local/lib/python3.11/dist-packages (from aiohttp!=4.0.0a0,!=4.0.0a1->fsspec[http]<=2025.3.0,>=2023.1.0->datasets) (6.6.3)\n",
            "Requirement already satisfied: propcache>=0.2.0 in /usr/local/lib/python3.11/dist-packages (from aiohttp!=4.0.0a0,!=4.0.0a1->fsspec[http]<=2025.3.0,>=2023.1.0->datasets) (0.3.2)\n",
            "Requirement already satisfied: yarl<2.0,>=1.17.0 in /usr/local/lib/python3.11/dist-packages (from aiohttp!=4.0.0a0,!=4.0.0a1->fsspec[http]<=2025.3.0,>=2023.1.0->datasets) (1.20.1)\n",
            "Requirement already satisfied: six>=1.5 in /usr/local/lib/python3.11/dist-packages (from python-dateutil>=2.8.2->pandas->datasets) (1.17.0)\n"
          ]
        }
      ]
    },
    {
      "cell_type": "markdown",
      "source": [
        "##Prepare Translation Data\n",
        "Loads cleaned data, filters valid English-Swahili translation pairs, renames columns to language codes, and converts the data into a Hugging Face Dataset split into training and testing sets for machine translation model fine-tuning"
      ],
      "metadata": {
        "id": "IE-9asfro0Qw"
      }
    },
    {
      "cell_type": "code",
      "source": [
        "import pandas as pd\n",
        "from datasets import Dataset\n",
        "\n",
        "# Load your data\n",
        "df = pd.read_csv(\"cleaned_Education_PSAs.csv\")\n",
        "\n",
        "# Filter valid translation pairs\n",
        "df = df[df['Translation_Swahili'].notnull() & df['PSAs Description'].notnull()]\n",
        "df = df[['PSAs Description', 'Translation_Swahili']].rename(\n",
        "    columns={\"PSAs Description\": \"en\", \"Translation_Swahili\": \"sw\"}\n",
        ")\n",
        "\n",
        "# Convert to HuggingFace dataset\n",
        "dataset = Dataset.from_pandas(df)\n",
        "dataset = dataset.train_test_split(test_size=0.1)"
      ],
      "metadata": {
        "id": "MtqP3Kh7eWaK"
      },
      "execution_count": null,
      "outputs": []
    },
    {
      "cell_type": "markdown",
      "source": [
        "###Loading a Pretrained Model\n",
        "Loads the pre-trained MarianMT English-to-Swahili translation model and tokenizer from Hugging Face, preparing them for translating text or fine-tuning on custom data."
      ],
      "metadata": {
        "id": "N_D9wScUotGr"
      }
    },
    {
      "cell_type": "code",
      "source": [
        "from transformers import MarianTokenizer, MarianMTModel\n",
        "\n",
        "model_name = \"Helsinki-NLP/opus-mt-en-sw\"\n",
        "tokenizer = MarianTokenizer.from_pretrained(model_name)\n",
        "model = MarianMTModel.from_pretrained(model_name)"
      ],
      "metadata": {
        "id": "ZhobkKK6cdBb",
        "colab": {
          "base_uri": "https://localhost:8080/"
        },
        "outputId": "2a145468-8b76-4ee0-ec16-846d7025734b"
      },
      "execution_count": null,
      "outputs": [
        {
          "output_type": "stream",
          "name": "stderr",
          "text": [
            "/usr/local/lib/python3.11/dist-packages/transformers/models/marian/tokenization_marian.py:175: UserWarning: Recommended: pip install sacremoses.\n",
            "  warnings.warn(\"Recommended: pip install sacremoses.\")\n"
          ]
        }
      ]
    },
    {
      "cell_type": "markdown",
      "source": [
        "## Data Preprocess\n",
        "Applies tokenization to prepare dataset for training: converts English inputs and Swahili labels into model-ready tensors with padding and truncation, then maps them into a format suitable for sequence-to-sequence translation fine-tuning."
      ],
      "metadata": {
        "id": "1g6wqvGVoo_0"
      }
    },
    {
      "cell_type": "code",
      "source": [
        "def preprocess(batch):\n",
        "    inputs = tokenizer(batch['en'], padding=\"max_length\", truncation=True, max_length=128)\n",
        "    with tokenizer.as_target_tokenizer():\n",
        "        labels = tokenizer(batch['sw'], padding=\"max_length\", truncation=True, max_length=128)\n",
        "    inputs['labels'] = labels['input_ids']\n",
        "    return inputs\n",
        "\n",
        "tokenized_dataset = dataset.map(preprocess, batched=True)"
      ],
      "metadata": {
        "id": "p85BIxrrckOI",
        "colab": {
          "base_uri": "https://localhost:8080/",
          "height": 136,
          "referenced_widgets": [
            "1e4c20078d6c44089641dd8a596b0d48",
            "6fdda9b1111541dc9c6bd6ae14d1e035",
            "db34d35bfa8f4d589aaed5e2321e3aef",
            "8a05795ca82742e0b187bbf92f26db70",
            "43162a237e8c4561b717e640493d1cfc",
            "aeafc793c76842fc82cec64288092591",
            "509d2fd1698b408a95c5c10bd8c724d5",
            "11e9af67bcf74f73aa170e02b33c2037",
            "49956bd35d994e10b7ec049af42e8714",
            "53123909770b442ca374f02401d927b0",
            "fe06592abbdb44a290e1c736623d419e",
            "346400ff82be43f2b29be5808939b72e",
            "f12137169dfd4adcae8e75b28c118a30",
            "293a631d65e5418da76ecba797e2b82b",
            "940df4f40a0f496a8516df2fbaafbd9e",
            "eed2fb8ce0984d1e8fabc72de7d5ed7a",
            "a174925a1953487d96abca845e4b1790",
            "ab287bfd7c8d41cb97b879ddb3a121fa",
            "8521313e823640d89d44a595fe13922b",
            "7b75e2c07a4e4733ad0ee5af4cefa5ba",
            "53fd4e7a2c664a9d8bb9432e07e4e2d4",
            "6a3ba22406a846e5a574a2220d2d4bac"
          ]
        },
        "outputId": "cb9d1f45-492e-4d1e-de01-8d397528cc93"
      },
      "execution_count": null,
      "outputs": [
        {
          "output_type": "display_data",
          "data": {
            "text/plain": [
              "Map:   0%|          | 0/562 [00:00<?, ? examples/s]"
            ],
            "application/vnd.jupyter.widget-view+json": {
              "version_major": 2,
              "version_minor": 0,
              "model_id": "1e4c20078d6c44089641dd8a596b0d48"
            }
          },
          "metadata": {}
        },
        {
          "output_type": "stream",
          "name": "stderr",
          "text": [
            "/usr/local/lib/python3.11/dist-packages/transformers/tokenization_utils_base.py:4006: UserWarning: `as_target_tokenizer` is deprecated and will be removed in v5 of Transformers. You can tokenize your labels by using the argument `text_target` of the regular `__call__` method (either in the same call as your input texts if you use the same keyword arguments, or in a separate call.\n",
            "  warnings.warn(\n"
          ]
        },
        {
          "output_type": "display_data",
          "data": {
            "text/plain": [
              "Map:   0%|          | 0/63 [00:00<?, ? examples/s]"
            ],
            "application/vnd.jupyter.widget-view+json": {
              "version_major": 2,
              "version_minor": 0,
              "model_id": "346400ff82be43f2b29be5808939b72e"
            }
          },
          "metadata": {}
        }
      ]
    },
    {
      "cell_type": "markdown",
      "source": [
        "**Training Setup**"
      ],
      "metadata": {
        "id": "L97EysbyocZ6"
      }
    },
    {
      "cell_type": "code",
      "source": [
        "!pip install --upgrade transformers"
      ],
      "metadata": {
        "id": "J02C1MJ6ckH3",
        "colab": {
          "base_uri": "https://localhost:8080/"
        },
        "outputId": "8f509b0f-efc5-4f1d-b2ed-46ae2f399371"
      },
      "execution_count": null,
      "outputs": [
        {
          "output_type": "stream",
          "name": "stdout",
          "text": [
            "Requirement already satisfied: transformers in /usr/local/lib/python3.11/dist-packages (4.55.0)\n",
            "Requirement already satisfied: filelock in /usr/local/lib/python3.11/dist-packages (from transformers) (3.18.0)\n",
            "Requirement already satisfied: huggingface-hub<1.0,>=0.34.0 in /usr/local/lib/python3.11/dist-packages (from transformers) (0.34.1)\n",
            "Requirement already satisfied: numpy>=1.17 in /usr/local/lib/python3.11/dist-packages (from transformers) (2.0.2)\n",
            "Requirement already satisfied: packaging>=20.0 in /usr/local/lib/python3.11/dist-packages (from transformers) (25.0)\n",
            "Requirement already satisfied: pyyaml>=5.1 in /usr/local/lib/python3.11/dist-packages (from transformers) (6.0.2)\n",
            "Requirement already satisfied: regex!=2019.12.17 in /usr/local/lib/python3.11/dist-packages (from transformers) (2024.11.6)\n",
            "Requirement already satisfied: requests in /usr/local/lib/python3.11/dist-packages (from transformers) (2.32.3)\n",
            "Requirement already satisfied: tokenizers<0.22,>=0.21 in /usr/local/lib/python3.11/dist-packages (from transformers) (0.21.2)\n",
            "Requirement already satisfied: safetensors>=0.4.3 in /usr/local/lib/python3.11/dist-packages (from transformers) (0.5.3)\n",
            "Requirement already satisfied: tqdm>=4.27 in /usr/local/lib/python3.11/dist-packages (from transformers) (4.67.1)\n",
            "Requirement already satisfied: fsspec>=2023.5.0 in /usr/local/lib/python3.11/dist-packages (from huggingface-hub<1.0,>=0.34.0->transformers) (2025.3.0)\n",
            "Requirement already satisfied: typing-extensions>=3.7.4.3 in /usr/local/lib/python3.11/dist-packages (from huggingface-hub<1.0,>=0.34.0->transformers) (4.14.1)\n",
            "Requirement already satisfied: hf-xet<2.0.0,>=1.1.3 in /usr/local/lib/python3.11/dist-packages (from huggingface-hub<1.0,>=0.34.0->transformers) (1.1.5)\n",
            "Requirement already satisfied: charset-normalizer<4,>=2 in /usr/local/lib/python3.11/dist-packages (from requests->transformers) (3.4.2)\n",
            "Requirement already satisfied: idna<4,>=2.5 in /usr/local/lib/python3.11/dist-packages (from requests->transformers) (3.10)\n",
            "Requirement already satisfied: urllib3<3,>=1.21.1 in /usr/local/lib/python3.11/dist-packages (from requests->transformers) (2.5.0)\n",
            "Requirement already satisfied: certifi>=2017.4.17 in /usr/local/lib/python3.11/dist-packages (from requests->transformers) (2025.7.14)\n"
          ]
        }
      ]
    },
    {
      "cell_type": "markdown",
      "source": [
        "### MODEL FINE-TUNING SETUP\n",
        "Prepares and fine-tunes a MarianMT English-to-Swahili translation model by loading data, tokenizing parallel text, and setting up training arguments and data collator. A Seq2SeqTrainer is initialized for training on the cleaned PSA dataset, with logging and evaluation configured.\n"
      ],
      "metadata": {
        "id": "t6rjR47moCHs"
      }
    },
    {
      "cell_type": "code",
      "source": [
        "from transformers import AutoTokenizer, AutoModelForSeq2SeqLM\n",
        "from transformers import Seq2SeqTrainer, Seq2SeqTrainingArguments, DataCollatorForSeq2Seq\n",
        "from datasets import Dataset, DatasetDict\n",
        "import pandas as pd\n",
        "\n",
        "# Step 1: Load Data\n",
        "df = pd.read_csv(\"cleaned_Education_PSAs.csv\")\n",
        "\n",
        "# Keep only rows with both English and Swahili columns (if Swahili exists)\n",
        "df = df.dropna(subset=[\"PSAs Description\", \"Translation_Swahili\"])\n",
        "\n",
        "# Rename for clarity\n",
        "df = df.rename(columns={\n",
        "    \"PSAs Description\": \"en\",\n",
        "    \"Translation_Swahili\": \"sw\"\n",
        "})\n",
        "\n",
        "# Keep only the needed columns\n",
        "df = df[[\"en\", \"sw\"]]\n",
        "\n",
        "# Step 2: Convert to HuggingFace Dataset\n",
        "dataset = Dataset.from_pandas(df)\n",
        "dataset = dataset.train_test_split(test_size=0.1)\n",
        "\n",
        "# Step 3: Load Pretrained Model & Tokenizer\n",
        "model_checkpoint = \"Helsinki-NLP/opus-mt-en-sw\"\n",
        "tokenizer = AutoTokenizer.from_pretrained(model_checkpoint)\n",
        "model = AutoModelForSeq2SeqLM.from_pretrained(model_checkpoint)\n",
        "\n",
        "# Step 4: Preprocess / Tokenize Data\n",
        "def preprocess_function(examples):\n",
        "    inputs = examples[\"en\"]\n",
        "    targets = examples[\"sw\"]\n",
        "    model_inputs = tokenizer(inputs, max_length=128, truncation=True)\n",
        "    with tokenizer.as_target_tokenizer():\n",
        "        labels = tokenizer(targets, max_length=128, truncation=True)\n",
        "    model_inputs[\"labels\"] = labels[\"input_ids\"]\n",
        "    return model_inputs\n",
        "\n",
        "from transformers import Seq2SeqTrainer, Seq2SeqTrainingArguments, DataCollatorForSeq2Seq\n",
        "import os\n",
        "\n",
        "# Disable Weights & Biases logging\n",
        "os.environ[\"WANDB_DISABLED\"] = \"true\"\n",
        "\n",
        "# Define training arguments\n",
        "training_args = Seq2SeqTrainingArguments(\n",
        "    output_dir=\"./mt-model-en-sw\",\n",
        "    per_device_train_batch_size=8,\n",
        "    per_device_eval_batch_size=8,\n",
        "    predict_with_generate=True,\n",
        "    num_train_epochs=1,\n",
        "    logging_dir=\"./logs\",\n",
        "    logging_steps=10,\n",
        "    save_total_limit=2,\n",
        "    report_to=\"none\",         # Disables W&B, TensorBoard, etc.\n",
        "    run_name=\"mt-en-sw\",      # Optional: custom run name\n",
        ")\n",
        "\n",
        "# Define the data collator\n",
        "data_collator = DataCollatorForSeq2Seq(tokenizer=tokenizer, model=model)\n",
        "\n",
        "# Create the trainer\n",
        "trainer = Seq2SeqTrainer(\n",
        "    model=model,\n",
        "    args=training_args,\n",
        "    train_dataset=tokenized_dataset['train'],\n",
        "    eval_dataset=tokenized_dataset['test'],\n",
        "    tokenizer=tokenizer,\n",
        "    data_collator=data_collator,\n",
        ")\n"
      ],
      "metadata": {
        "id": "Y4knlXNuiAT6",
        "colab": {
          "base_uri": "https://localhost:8080/"
        },
        "outputId": "5cbd9bc9-449a-4637-c73b-fdf34d11a7ec"
      },
      "execution_count": null,
      "outputs": [
        {
          "output_type": "stream",
          "name": "stderr",
          "text": [
            "/usr/local/lib/python3.11/dist-packages/transformers/models/marian/tokenization_marian.py:175: UserWarning: Recommended: pip install sacremoses.\n",
            "  warnings.warn(\"Recommended: pip install sacremoses.\")\n",
            "/tmp/ipython-input-3712237618.py:64: FutureWarning: `tokenizer` is deprecated and will be removed in version 5.0.0 for `Seq2SeqTrainer.__init__`. Use `processing_class` instead.\n",
            "  trainer = Seq2SeqTrainer(\n"
          ]
        }
      ]
    },
    {
      "cell_type": "markdown",
      "source": [
        "##Experiment Tracking Setup\n",
        "\n",
        "Installs and initializes Weights & Biases (wandb) to track and log the translation model's training process, enabling performance monitoring, visualization, and experiment management for the Swahili translation project."
      ],
      "metadata": {
        "id": "Z3qT-nJWn9K7"
      }
    },
    {
      "cell_type": "code",
      "source": [
        "!pip install wandb\n",
        "import wandb\n",
        "wandb.init(project=\"swahili-translation\")"
      ],
      "metadata": {
        "id": "urTqAvS9c9SH",
        "colab": {
          "base_uri": "https://localhost:8080/",
          "height": 614
        },
        "outputId": "2bd413b5-515d-4b89-8471-25329c632b59"
      },
      "execution_count": null,
      "outputs": [
        {
          "output_type": "stream",
          "name": "stdout",
          "text": [
            "Requirement already satisfied: wandb in /usr/local/lib/python3.11/dist-packages (0.21.0)\n",
            "Requirement already satisfied: click!=8.0.0,>=7.1 in /usr/local/lib/python3.11/dist-packages (from wandb) (8.2.1)\n",
            "Requirement already satisfied: gitpython!=3.1.29,>=1.0.0 in /usr/local/lib/python3.11/dist-packages (from wandb) (3.1.45)\n",
            "Requirement already satisfied: packaging in /usr/local/lib/python3.11/dist-packages (from wandb) (25.0)\n",
            "Requirement already satisfied: platformdirs in /usr/local/lib/python3.11/dist-packages (from wandb) (4.3.8)\n",
            "Requirement already satisfied: protobuf!=4.21.0,!=5.28.0,<7,>=3.19.0 in /usr/local/lib/python3.11/dist-packages (from wandb) (5.29.5)\n",
            "Requirement already satisfied: pydantic<3 in /usr/local/lib/python3.11/dist-packages (from wandb) (2.11.7)\n",
            "Requirement already satisfied: pyyaml in /usr/local/lib/python3.11/dist-packages (from wandb) (6.0.2)\n",
            "Requirement already satisfied: requests<3,>=2.0.0 in /usr/local/lib/python3.11/dist-packages (from wandb) (2.32.3)\n",
            "Requirement already satisfied: sentry-sdk>=2.0.0 in /usr/local/lib/python3.11/dist-packages (from wandb) (2.33.2)\n",
            "Requirement already satisfied: typing-extensions<5,>=4.8 in /usr/local/lib/python3.11/dist-packages (from wandb) (4.14.1)\n",
            "Requirement already satisfied: gitdb<5,>=4.0.1 in /usr/local/lib/python3.11/dist-packages (from gitpython!=3.1.29,>=1.0.0->wandb) (4.0.12)\n",
            "Requirement already satisfied: annotated-types>=0.6.0 in /usr/local/lib/python3.11/dist-packages (from pydantic<3->wandb) (0.7.0)\n",
            "Requirement already satisfied: pydantic-core==2.33.2 in /usr/local/lib/python3.11/dist-packages (from pydantic<3->wandb) (2.33.2)\n",
            "Requirement already satisfied: typing-inspection>=0.4.0 in /usr/local/lib/python3.11/dist-packages (from pydantic<3->wandb) (0.4.1)\n",
            "Requirement already satisfied: charset-normalizer<4,>=2 in /usr/local/lib/python3.11/dist-packages (from requests<3,>=2.0.0->wandb) (3.4.2)\n",
            "Requirement already satisfied: idna<4,>=2.5 in /usr/local/lib/python3.11/dist-packages (from requests<3,>=2.0.0->wandb) (3.10)\n",
            "Requirement already satisfied: urllib3<3,>=1.21.1 in /usr/local/lib/python3.11/dist-packages (from requests<3,>=2.0.0->wandb) (2.5.0)\n",
            "Requirement already satisfied: certifi>=2017.4.17 in /usr/local/lib/python3.11/dist-packages (from requests<3,>=2.0.0->wandb) (2025.7.14)\n",
            "Requirement already satisfied: smmap<6,>=3.0.1 in /usr/local/lib/python3.11/dist-packages (from gitdb<5,>=4.0.1->gitpython!=3.1.29,>=1.0.0->wandb) (5.0.2)\n"
          ]
        },
        {
          "output_type": "display_data",
          "data": {
            "text/plain": [
              "<IPython.core.display.HTML object>"
            ],
            "text/html": [
              "Changes to your `wandb` environment variables will be ignored because your `wandb` session has already started. For more information on how to modify your settings with `wandb.init()` arguments, please refer to <a href='https://wandb.me/wandb-init' target=\"_blank\">the W&B docs</a>."
            ]
          },
          "metadata": {}
        },
        {
          "output_type": "display_data",
          "data": {
            "text/plain": [
              "<IPython.core.display.HTML object>"
            ],
            "text/html": [
              "Finishing previous runs because reinit is set to 'default'."
            ]
          },
          "metadata": {}
        },
        {
          "output_type": "display_data",
          "data": {
            "text/plain": [
              "<IPython.core.display.HTML object>"
            ],
            "text/html": []
          },
          "metadata": {}
        },
        {
          "output_type": "display_data",
          "data": {
            "text/plain": [
              "<IPython.core.display.HTML object>"
            ],
            "text/html": [
              " View run <strong style=\"color:#cdcd00\">earnest-wood-4</strong> at: <a href='https://wandb.ai/bophine4-united-states-international-university/swahili-translation/runs/yshu1ojw' target=\"_blank\">https://wandb.ai/bophine4-united-states-international-university/swahili-translation/runs/yshu1ojw</a><br> View project at: <a href='https://wandb.ai/bophine4-united-states-international-university/swahili-translation' target=\"_blank\">https://wandb.ai/bophine4-united-states-international-university/swahili-translation</a><br>Synced 5 W&B file(s), 0 media file(s), 0 artifact file(s) and 0 other file(s)"
            ]
          },
          "metadata": {}
        },
        {
          "output_type": "display_data",
          "data": {
            "text/plain": [
              "<IPython.core.display.HTML object>"
            ],
            "text/html": [
              "Find logs at: <code>./wandb/run-20250806_063649-yshu1ojw/logs</code>"
            ]
          },
          "metadata": {}
        },
        {
          "output_type": "display_data",
          "data": {
            "text/plain": [
              "<IPython.core.display.HTML object>"
            ],
            "text/html": [
              "Tracking run with wandb version 0.21.0"
            ]
          },
          "metadata": {}
        },
        {
          "output_type": "display_data",
          "data": {
            "text/plain": [
              "<IPython.core.display.HTML object>"
            ],
            "text/html": [
              "Run data is saved locally in <code>/content/wandb/run-20250806_082647-50ikhzk5</code>"
            ]
          },
          "metadata": {}
        },
        {
          "output_type": "display_data",
          "data": {
            "text/plain": [
              "<IPython.core.display.HTML object>"
            ],
            "text/html": [
              "Syncing run <strong><a href='https://wandb.ai/bophine4-united-states-international-university/swahili-translation/runs/50ikhzk5' target=\"_blank\">sweet-jazz-5</a></strong> to <a href='https://wandb.ai/bophine4-united-states-international-university/swahili-translation' target=\"_blank\">Weights & Biases</a> (<a href='https://wandb.me/developer-guide' target=\"_blank\">docs</a>)<br>"
            ]
          },
          "metadata": {}
        },
        {
          "output_type": "display_data",
          "data": {
            "text/plain": [
              "<IPython.core.display.HTML object>"
            ],
            "text/html": [
              " View project at <a href='https://wandb.ai/bophine4-united-states-international-university/swahili-translation' target=\"_blank\">https://wandb.ai/bophine4-united-states-international-university/swahili-translation</a>"
            ]
          },
          "metadata": {}
        },
        {
          "output_type": "display_data",
          "data": {
            "text/plain": [
              "<IPython.core.display.HTML object>"
            ],
            "text/html": [
              " View run at <a href='https://wandb.ai/bophine4-united-states-international-university/swahili-translation/runs/50ikhzk5' target=\"_blank\">https://wandb.ai/bophine4-united-states-international-university/swahili-translation/runs/50ikhzk5</a>"
            ]
          },
          "metadata": {}
        },
        {
          "output_type": "execute_result",
          "data": {
            "text/html": [
              "<button onClick=\"this.nextSibling.style.display='block';this.style.display='none';\">Display W&B run</button><iframe src='https://wandb.ai/bophine4-united-states-international-university/swahili-translation/runs/50ikhzk5?jupyter=true' style='border:none;width:100%;height:420px;display:none;'></iframe>"
            ],
            "text/plain": [
              "<wandb.sdk.wandb_run.Run at 0x7807506bb150>"
            ]
          },
          "metadata": {},
          "execution_count": 55
        }
      ]
    },
    {
      "cell_type": "markdown",
      "source": [
        "##Acceleration Setup\n",
        "\n",
        "Initializes the Hugging Face Accelerator to automate optimization of training on different hardware (CPU, GPU, TPU), enabling efficient, distributed, and mixed-precision training without manual configuration."
      ],
      "metadata": {
        "id": "FMyB2hKky9jo"
      }
    },
    {
      "cell_type": "code",
      "source": [
        "from accelerate import Accelerator\n",
        "\n",
        "accelerator = Accelerator()"
      ],
      "metadata": {
        "id": "yNzCyOcbdFT-"
      },
      "execution_count": null,
      "outputs": []
    },
    {
      "cell_type": "markdown",
      "source": [
        "#Model Training\n",
        "\n",
        "Trains the translation model using the configured trainer and saves the fine-tuned model weights and tokenizer to disk for later inference or deployment."
      ],
      "metadata": {
        "id": "Mjh6kFeYIaNz"
      }
    },
    {
      "cell_type": "code",
      "source": [
        "train_result = trainer.train()\n",
        "trainer.save_model() # Save the trained model"
      ],
      "metadata": {
        "id": "HeEzjG5JdLUo",
        "colab": {
          "base_uri": "https://localhost:8080/",
          "height": 349
        },
        "outputId": "06d040dd-534c-44c0-92f6-f8702a5fe080"
      },
      "execution_count": null,
      "outputs": [
        {
          "output_type": "display_data",
          "data": {
            "text/plain": [
              "<IPython.core.display.HTML object>"
            ],
            "text/html": [
              "\n",
              "    <div>\n",
              "      \n",
              "      <progress value='71' max='71' style='width:300px; height:20px; vertical-align: middle;'></progress>\n",
              "      [71/71 16:46, Epoch 1/1]\n",
              "    </div>\n",
              "    <table border=\"1\" class=\"dataframe\">\n",
              "  <thead>\n",
              " <tr style=\"text-align: left;\">\n",
              "      <th>Step</th>\n",
              "      <th>Training Loss</th>\n",
              "    </tr>\n",
              "  </thead>\n",
              "  <tbody>\n",
              "    <tr>\n",
              "      <td>10</td>\n",
              "      <td>3.416400</td>\n",
              "    </tr>\n",
              "    <tr>\n",
              "      <td>20</td>\n",
              "      <td>0.773000</td>\n",
              "    </tr>\n",
              "    <tr>\n",
              "      <td>30</td>\n",
              "      <td>0.558100</td>\n",
              "    </tr>\n",
              "    <tr>\n",
              "      <td>40</td>\n",
              "      <td>0.441300</td>\n",
              "    </tr>\n",
              "    <tr>\n",
              "      <td>50</td>\n",
              "      <td>0.494200</td>\n",
              "    </tr>\n",
              "    <tr>\n",
              "      <td>60</td>\n",
              "      <td>0.391200</td>\n",
              "    </tr>\n",
              "    <tr>\n",
              "      <td>70</td>\n",
              "      <td>0.592300</td>\n",
              "    </tr>\n",
              "  </tbody>\n",
              "</table><p>"
            ]
          },
          "metadata": {}
        },
        {
          "output_type": "stream",
          "name": "stderr",
          "text": [
            "/usr/local/lib/python3.11/dist-packages/transformers/modeling_utils.py:3909: UserWarning: Moving the following attributes in the config to the generation config: {'max_length': 512, 'num_beams': 4, 'bad_words_ids': [[58949]]}. You are seeing this warning because you've set generation parameters in the model config, as opposed to in the generation config.\n",
            "  warnings.warn(\n"
          ]
        }
      ]
    },
    {
      "cell_type": "markdown",
      "source": [
        "##Model Evaluation\n",
        "Evaluates the trained translation model using BLEU score via sacreBLEU. Translations are decoded and compared to references, providing a quantitative measure of performance on the test set."
      ],
      "metadata": {
        "id": "Zz4TDx3Vnz-Q"
      }
    },
    {
      "cell_type": "code",
      "source": [
        "import evaluate\n",
        "\n",
        "bleu = evaluate.load(\"sacrebleu\")\n",
        "\n",
        "def compute_metrics(eval_preds):\n",
        "    preds, labels = eval_preds\n",
        "    decoded_preds = tokenizer.batch_decode(preds, skip_special_tokens=True)\n",
        "    decoded_labels = tokenizer.batch_decode(labels, skip_special_tokens=True)\n",
        "    return bleu.compute(predictions=decoded_preds, references=[[ref] for ref in decoded_labels])\n",
        "\n",
        "trainer.compute_metrics = compute_metrics\n",
        "metrics = trainer.evaluate()\n",
        "print(metrics)"
      ],
      "metadata": {
        "id": "OvtQ2ttqdQI9",
        "colab": {
          "base_uri": "https://localhost:8080/",
          "height": 106,
          "referenced_widgets": [
            "6e7b159f78164304be1d751aaaac644a",
            "685a460782ce4401bac26b76d87039ce",
            "a95feb54f6d84299b50330136299cde7",
            "3359807b59214c7ea7b995d1cc42e3fb",
            "ff5891f4e1344d01b1ddfea938bb09dc",
            "46fc2651c9fb47ff96af4c9b26830815",
            "90f68c1a4e8044f8904fe40a6d542d85",
            "9b3a8ea6a1c546f3b89e2ed2e51e9e76",
            "10d87e59dc7743cdbbe8b47cbb88d266",
            "919052da057742dfa7f0765d426e854b",
            "b32c2efbd69045f589f4615b0a648a3a"
          ]
        },
        "outputId": "7d47acb3-1ca1-4771-c0e1-04eaba89dea2"
      },
      "execution_count": null,
      "outputs": [
        {
          "output_type": "display_data",
          "data": {
            "text/plain": [
              "Downloading builder script: 0.00B [00:00, ?B/s]"
            ],
            "application/vnd.jupyter.widget-view+json": {
              "version_major": 2,
              "version_minor": 0,
              "model_id": "6e7b159f78164304be1d751aaaac644a"
            }
          },
          "metadata": {}
        },
        {
          "output_type": "display_data",
          "data": {
            "text/plain": [
              "<IPython.core.display.HTML object>"
            ],
            "text/html": [
              "\n",
              "    <div>\n",
              "      \n",
              "      <progress value='8' max='8' style='width:300px; height:20px; vertical-align: middle;'></progress>\n",
              "      [8/8 01:41]\n",
              "    </div>\n",
              "    "
            ]
          },
          "metadata": {}
        },
        {
          "output_type": "stream",
          "name": "stdout",
          "text": [
            "{'eval_loss': 0.6255719661712646, 'eval_score': 43.83139625604884, 'eval_counts': [881, 645, 505, 402], 'eval_totals': [1254, 1191, 1128, 1065], 'eval_precisions': [70.25518341307814, 54.15617128463476, 44.769503546099294, 37.74647887323944], 'eval_bp': 0.8704404066633968, 'eval_sys_len': 1254, 'eval_ref_len': 1428, 'eval_runtime': 118.1402, 'eval_samples_per_second': 0.533, 'eval_steps_per_second': 0.068, 'epoch': 1.0}\n"
          ]
        }
      ]
    },
    {
      "cell_type": "markdown",
      "source": [
        "**Evaluating Workflow for MT Model**"
      ],
      "metadata": {
        "id": "vECQNzbknp0Z"
      }
    },
    {
      "cell_type": "code",
      "source": [
        "!pip install transformers evaluate sacrebleu datasets"
      ],
      "metadata": {
        "id": "KXtCn-1JdWWt",
        "colab": {
          "base_uri": "https://localhost:8080/"
        },
        "outputId": "4941b081-e9a5-419e-8934-693a9144427b"
      },
      "execution_count": null,
      "outputs": [
        {
          "output_type": "stream",
          "name": "stdout",
          "text": [
            "Requirement already satisfied: transformers in /usr/local/lib/python3.11/dist-packages (4.55.0)\n",
            "Requirement already satisfied: evaluate in /usr/local/lib/python3.11/dist-packages (0.4.5)\n",
            "Requirement already satisfied: sacrebleu in /usr/local/lib/python3.11/dist-packages (2.5.1)\n",
            "Requirement already satisfied: datasets in /usr/local/lib/python3.11/dist-packages (4.0.0)\n",
            "Requirement already satisfied: filelock in /usr/local/lib/python3.11/dist-packages (from transformers) (3.18.0)\n",
            "Requirement already satisfied: huggingface-hub<1.0,>=0.34.0 in /usr/local/lib/python3.11/dist-packages (from transformers) (0.34.1)\n",
            "Requirement already satisfied: numpy>=1.17 in /usr/local/lib/python3.11/dist-packages (from transformers) (2.0.2)\n",
            "Requirement already satisfied: packaging>=20.0 in /usr/local/lib/python3.11/dist-packages (from transformers) (25.0)\n",
            "Requirement already satisfied: pyyaml>=5.1 in /usr/local/lib/python3.11/dist-packages (from transformers) (6.0.2)\n",
            "Requirement already satisfied: regex!=2019.12.17 in /usr/local/lib/python3.11/dist-packages (from transformers) (2024.11.6)\n",
            "Requirement already satisfied: requests in /usr/local/lib/python3.11/dist-packages (from transformers) (2.32.3)\n",
            "Requirement already satisfied: tokenizers<0.22,>=0.21 in /usr/local/lib/python3.11/dist-packages (from transformers) (0.21.2)\n",
            "Requirement already satisfied: safetensors>=0.4.3 in /usr/local/lib/python3.11/dist-packages (from transformers) (0.5.3)\n",
            "Requirement already satisfied: tqdm>=4.27 in /usr/local/lib/python3.11/dist-packages (from transformers) (4.67.1)\n",
            "Requirement already satisfied: dill in /usr/local/lib/python3.11/dist-packages (from evaluate) (0.3.8)\n",
            "Requirement already satisfied: pandas in /usr/local/lib/python3.11/dist-packages (from evaluate) (2.2.2)\n",
            "Requirement already satisfied: xxhash in /usr/local/lib/python3.11/dist-packages (from evaluate) (3.5.0)\n",
            "Requirement already satisfied: multiprocess in /usr/local/lib/python3.11/dist-packages (from evaluate) (0.70.16)\n",
            "Requirement already satisfied: fsspec>=2021.05.0 in /usr/local/lib/python3.11/dist-packages (from fsspec[http]>=2021.05.0->evaluate) (2025.3.0)\n",
            "Requirement already satisfied: portalocker in /usr/local/lib/python3.11/dist-packages (from sacrebleu) (3.2.0)\n",
            "Requirement already satisfied: tabulate>=0.8.9 in /usr/local/lib/python3.11/dist-packages (from sacrebleu) (0.9.0)\n",
            "Requirement already satisfied: colorama in /usr/local/lib/python3.11/dist-packages (from sacrebleu) (0.4.6)\n",
            "Requirement already satisfied: lxml in /usr/local/lib/python3.11/dist-packages (from sacrebleu) (5.4.0)\n",
            "Requirement already satisfied: pyarrow>=15.0.0 in /usr/local/lib/python3.11/dist-packages (from datasets) (18.1.0)\n",
            "Requirement already satisfied: aiohttp!=4.0.0a0,!=4.0.0a1 in /usr/local/lib/python3.11/dist-packages (from fsspec[http]>=2021.05.0->evaluate) (3.12.14)\n",
            "Requirement already satisfied: typing-extensions>=3.7.4.3 in /usr/local/lib/python3.11/dist-packages (from huggingface-hub<1.0,>=0.34.0->transformers) (4.14.1)\n",
            "Requirement already satisfied: hf-xet<2.0.0,>=1.1.3 in /usr/local/lib/python3.11/dist-packages (from huggingface-hub<1.0,>=0.34.0->transformers) (1.1.5)\n",
            "Requirement already satisfied: charset-normalizer<4,>=2 in /usr/local/lib/python3.11/dist-packages (from requests->transformers) (3.4.2)\n",
            "Requirement already satisfied: idna<4,>=2.5 in /usr/local/lib/python3.11/dist-packages (from requests->transformers) (3.10)\n",
            "Requirement already satisfied: urllib3<3,>=1.21.1 in /usr/local/lib/python3.11/dist-packages (from requests->transformers) (2.5.0)\n",
            "Requirement already satisfied: certifi>=2017.4.17 in /usr/local/lib/python3.11/dist-packages (from requests->transformers) (2025.7.14)\n",
            "Requirement already satisfied: python-dateutil>=2.8.2 in /usr/local/lib/python3.11/dist-packages (from pandas->evaluate) (2.9.0.post0)\n",
            "Requirement already satisfied: pytz>=2020.1 in /usr/local/lib/python3.11/dist-packages (from pandas->evaluate) (2025.2)\n",
            "Requirement already satisfied: tzdata>=2022.7 in /usr/local/lib/python3.11/dist-packages (from pandas->evaluate) (2025.2)\n",
            "Requirement already satisfied: aiohappyeyeballs>=2.5.0 in /usr/local/lib/python3.11/dist-packages (from aiohttp!=4.0.0a0,!=4.0.0a1->fsspec[http]>=2021.05.0->evaluate) (2.6.1)\n",
            "Requirement already satisfied: aiosignal>=1.4.0 in /usr/local/lib/python3.11/dist-packages (from aiohttp!=4.0.0a0,!=4.0.0a1->fsspec[http]>=2021.05.0->evaluate) (1.4.0)\n",
            "Requirement already satisfied: attrs>=17.3.0 in /usr/local/lib/python3.11/dist-packages (from aiohttp!=4.0.0a0,!=4.0.0a1->fsspec[http]>=2021.05.0->evaluate) (25.3.0)\n",
            "Requirement already satisfied: frozenlist>=1.1.1 in /usr/local/lib/python3.11/dist-packages (from aiohttp!=4.0.0a0,!=4.0.0a1->fsspec[http]>=2021.05.0->evaluate) (1.7.0)\n",
            "Requirement already satisfied: multidict<7.0,>=4.5 in /usr/local/lib/python3.11/dist-packages (from aiohttp!=4.0.0a0,!=4.0.0a1->fsspec[http]>=2021.05.0->evaluate) (6.6.3)\n",
            "Requirement already satisfied: propcache>=0.2.0 in /usr/local/lib/python3.11/dist-packages (from aiohttp!=4.0.0a0,!=4.0.0a1->fsspec[http]>=2021.05.0->evaluate) (0.3.2)\n",
            "Requirement already satisfied: yarl<2.0,>=1.17.0 in /usr/local/lib/python3.11/dist-packages (from aiohttp!=4.0.0a0,!=4.0.0a1->fsspec[http]>=2021.05.0->evaluate) (1.20.1)\n",
            "Requirement already satisfied: six>=1.5 in /usr/local/lib/python3.11/dist-packages (from python-dateutil>=2.8.2->pandas->evaluate) (1.17.0)\n"
          ]
        }
      ]
    },
    {
      "cell_type": "markdown",
      "source": [
        "##Load Fine-Tuned Model\n",
        "Loads the locally saved fine-tuned English-to-Swahili translation model and tokenizer for inference, enabling translation of new text using the customized model."
      ],
      "metadata": {
        "id": "CZFg7903ngot"
      }
    },
    {
      "cell_type": "code",
      "source": [
        "from transformers import MarianTokenizer, MarianMTModel\n",
        "\n",
        "model_path = \"./mt-model-en-sw\"  # Path to your fine-tuned model\n",
        "tokenizer = MarianTokenizer.from_pretrained(model_path)\n",
        "model = MarianMTModel.from_pretrained(model_path)"
      ],
      "metadata": {
        "id": "Oq_I456ddbwC",
        "colab": {
          "base_uri": "https://localhost:8080/"
        },
        "outputId": "592d3d41-bd65-4b3b-a9f6-a47dbe515aac"
      },
      "execution_count": null,
      "outputs": [
        {
          "output_type": "stream",
          "name": "stderr",
          "text": [
            "/usr/local/lib/python3.11/dist-packages/transformers/models/marian/tokenization_marian.py:175: UserWarning: Recommended: pip install sacremoses.\n",
            "  warnings.warn(\"Recommended: pip install sacremoses.\")\n"
          ]
        }
      ]
    },
    {
      "cell_type": "markdown",
      "source": [
        "##Test Set Preparation\n",
        "Loads cleaned data with valid English-Swahili pairs, renames columns, and creates a 10% random sample as a test dataset for evaluating translation model performance.\n",
        "\n"
      ],
      "metadata": {
        "id": "jzoGVz2lnWzU"
      }
    },
    {
      "cell_type": "code",
      "source": [
        "import pandas as pd\n",
        "from datasets import Dataset\n",
        "\n",
        "# Load your dataset with human-translated pairs\n",
        "df = pd.read_csv(\"cleaned_Education_PSAs.csv\")\n",
        "df = df[df['Translation_Swahili'].notnull() & df['PSAs Description'].notnull()]\n",
        "df = df[['PSAs Description', 'Translation_Swahili']].rename(columns={\"PSAs Description\": \"en\", \"Translation_Swahili\": \"sw\"})\n",
        "\n",
        "# Use 10% as test set\n",
        "test_data = Dataset.from_pandas(df.sample(frac=0.1, random_state=42))"
      ],
      "metadata": {
        "id": "FnCh7V2Ol5Nx"
      },
      "execution_count": null,
      "outputs": []
    },
    {
      "cell_type": "markdown",
      "source": [
        "###Translation Inference\n",
        "Generates Swahili translations for English test sentences using the fine-tuned model, then decodes and stores predictions for comparison with human-translated references."
      ],
      "metadata": {
        "id": "AgrPavRFnMAT"
      }
    },
    {
      "cell_type": "code",
      "source": [
        "def generate_translation(texts):\n",
        "    inputs = tokenizer(texts, return_tensors=\"pt\", padding=True, truncation=True)\n",
        "    output = model.generate(**inputs)\n",
        "    return tokenizer.batch_decode(output, skip_special_tokens=True)\n",
        "\n",
        "# Generate predictions\n",
        "en_sentences = test_data[\"en\"]\n",
        "true_sw = test_data[\"sw\"]\n",
        "pred_sw = generate_translation([text for text in en_sentences]) # Convert to list using list comprehension"
      ],
      "metadata": {
        "id": "C_Xgkf2tfKaQ"
      },
      "execution_count": null,
      "outputs": []
    },
    {
      "cell_type": "markdown",
      "source": [
        "**Computing the BLEU Score**"
      ],
      "metadata": {
        "id": "ofHIPtSem8kc"
      }
    },
    {
      "cell_type": "code",
      "source": [
        "!pip install evaluate\n"
      ],
      "metadata": {
        "id": "9VSr8UF0fxiC",
        "colab": {
          "base_uri": "https://localhost:8080/"
        },
        "outputId": "ef34f4a7-0c08-446a-c5ed-8830a8f7d093"
      },
      "execution_count": null,
      "outputs": [
        {
          "output_type": "stream",
          "name": "stdout",
          "text": [
            "Requirement already satisfied: evaluate in /usr/local/lib/python3.11/dist-packages (0.4.5)\n",
            "Requirement already satisfied: datasets>=2.0.0 in /usr/local/lib/python3.11/dist-packages (from evaluate) (4.0.0)\n",
            "Requirement already satisfied: numpy>=1.17 in /usr/local/lib/python3.11/dist-packages (from evaluate) (2.0.2)\n",
            "Requirement already satisfied: dill in /usr/local/lib/python3.11/dist-packages (from evaluate) (0.3.8)\n",
            "Requirement already satisfied: pandas in /usr/local/lib/python3.11/dist-packages (from evaluate) (2.2.2)\n",
            "Requirement already satisfied: requests>=2.19.0 in /usr/local/lib/python3.11/dist-packages (from evaluate) (2.32.3)\n",
            "Requirement already satisfied: tqdm>=4.62.1 in /usr/local/lib/python3.11/dist-packages (from evaluate) (4.67.1)\n",
            "Requirement already satisfied: xxhash in /usr/local/lib/python3.11/dist-packages (from evaluate) (3.5.0)\n",
            "Requirement already satisfied: multiprocess in /usr/local/lib/python3.11/dist-packages (from evaluate) (0.70.16)\n",
            "Requirement already satisfied: fsspec>=2021.05.0 in /usr/local/lib/python3.11/dist-packages (from fsspec[http]>=2021.05.0->evaluate) (2025.3.0)\n",
            "Requirement already satisfied: huggingface-hub>=0.7.0 in /usr/local/lib/python3.11/dist-packages (from evaluate) (0.34.1)\n",
            "Requirement already satisfied: packaging in /usr/local/lib/python3.11/dist-packages (from evaluate) (25.0)\n",
            "Requirement already satisfied: filelock in /usr/local/lib/python3.11/dist-packages (from datasets>=2.0.0->evaluate) (3.18.0)\n",
            "Requirement already satisfied: pyarrow>=15.0.0 in /usr/local/lib/python3.11/dist-packages (from datasets>=2.0.0->evaluate) (18.1.0)\n",
            "Requirement already satisfied: pyyaml>=5.1 in /usr/local/lib/python3.11/dist-packages (from datasets>=2.0.0->evaluate) (6.0.2)\n",
            "Requirement already satisfied: aiohttp!=4.0.0a0,!=4.0.0a1 in /usr/local/lib/python3.11/dist-packages (from fsspec[http]>=2021.05.0->evaluate) (3.12.14)\n",
            "Requirement already satisfied: typing-extensions>=3.7.4.3 in /usr/local/lib/python3.11/dist-packages (from huggingface-hub>=0.7.0->evaluate) (4.14.1)\n",
            "Requirement already satisfied: hf-xet<2.0.0,>=1.1.3 in /usr/local/lib/python3.11/dist-packages (from huggingface-hub>=0.7.0->evaluate) (1.1.5)\n",
            "Requirement already satisfied: charset-normalizer<4,>=2 in /usr/local/lib/python3.11/dist-packages (from requests>=2.19.0->evaluate) (3.4.2)\n",
            "Requirement already satisfied: idna<4,>=2.5 in /usr/local/lib/python3.11/dist-packages (from requests>=2.19.0->evaluate) (3.10)\n",
            "Requirement already satisfied: urllib3<3,>=1.21.1 in /usr/local/lib/python3.11/dist-packages (from requests>=2.19.0->evaluate) (2.5.0)\n",
            "Requirement already satisfied: certifi>=2017.4.17 in /usr/local/lib/python3.11/dist-packages (from requests>=2.19.0->evaluate) (2025.7.14)\n",
            "Requirement already satisfied: python-dateutil>=2.8.2 in /usr/local/lib/python3.11/dist-packages (from pandas->evaluate) (2.9.0.post0)\n",
            "Requirement already satisfied: pytz>=2020.1 in /usr/local/lib/python3.11/dist-packages (from pandas->evaluate) (2025.2)\n",
            "Requirement already satisfied: tzdata>=2022.7 in /usr/local/lib/python3.11/dist-packages (from pandas->evaluate) (2025.2)\n",
            "Requirement already satisfied: aiohappyeyeballs>=2.5.0 in /usr/local/lib/python3.11/dist-packages (from aiohttp!=4.0.0a0,!=4.0.0a1->fsspec[http]>=2021.05.0->evaluate) (2.6.1)\n",
            "Requirement already satisfied: aiosignal>=1.4.0 in /usr/local/lib/python3.11/dist-packages (from aiohttp!=4.0.0a0,!=4.0.0a1->fsspec[http]>=2021.05.0->evaluate) (1.4.0)\n",
            "Requirement already satisfied: attrs>=17.3.0 in /usr/local/lib/python3.11/dist-packages (from aiohttp!=4.0.0a0,!=4.0.0a1->fsspec[http]>=2021.05.0->evaluate) (25.3.0)\n",
            "Requirement already satisfied: frozenlist>=1.1.1 in /usr/local/lib/python3.11/dist-packages (from aiohttp!=4.0.0a0,!=4.0.0a1->fsspec[http]>=2021.05.0->evaluate) (1.7.0)\n",
            "Requirement already satisfied: multidict<7.0,>=4.5 in /usr/local/lib/python3.11/dist-packages (from aiohttp!=4.0.0a0,!=4.0.0a1->fsspec[http]>=2021.05.0->evaluate) (6.6.3)\n",
            "Requirement already satisfied: propcache>=0.2.0 in /usr/local/lib/python3.11/dist-packages (from aiohttp!=4.0.0a0,!=4.0.0a1->fsspec[http]>=2021.05.0->evaluate) (0.3.2)\n",
            "Requirement already satisfied: yarl<2.0,>=1.17.0 in /usr/local/lib/python3.11/dist-packages (from aiohttp!=4.0.0a0,!=4.0.0a1->fsspec[http]>=2021.05.0->evaluate) (1.20.1)\n",
            "Requirement already satisfied: six>=1.5 in /usr/local/lib/python3.11/dist-packages (from python-dateutil>=2.8.2->pandas->evaluate) (1.17.0)\n"
          ]
        }
      ]
    },
    {
      "cell_type": "markdown",
      "source": [
        "### Model Evaluation & Visualization\n",
        "Evaluates a fine-tuned translation model by generating Swahili predictions on a test set, computes sentence-level BLEU scores, visualizes them in a bar chart, and reports the overall sacreBLEU score to assess translation quality."
      ],
      "metadata": {
        "id": "EqcYsJ5o05BS"
      }
    },
    {
      "cell_type": "code",
      "source": [
        "import matplotlib.pyplot as plt\n",
        "import evaluate\n",
        "from nltk.translate.bleu_score import sentence_bleu\n",
        "import pandas as pd\n",
        "from datasets import Dataset\n",
        "from transformers import MarianTokenizer, MarianMTModel # Import necessary classes\n",
        "\n",
        "# Load the tokenizer and model\n",
        "model_path = \"./mt-model-en-sw\"  # Path to your fine-tuned model\n",
        "tokenizer = MarianTokenizer.from_pretrained(model_path)\n",
        "model = MarianMTModel.from_pretrained(model_path)\n",
        "\n",
        "\n",
        "# Load your dataset with human-translated pairs\n",
        "df = pd.read_csv(\"cleaned_Education_PSAs.csv\")\n",
        "df = df[df['Translation_Swahili'].notnull() & df['PSAs Description'].notnull()]\n",
        "df = df[['PSAs Description', 'Translation_Swahili']].rename(columns={\"PSAs Description\": \"en\", \"Translation_Swahili\": \"sw\"})\n",
        "\n",
        "# Use 10% as test set\n",
        "test_data = Dataset.from_pandas(df.sample(frac=0.1, random_state=42))\n",
        "\n",
        "# Assuming 'tokenizer' and 'model' are loaded in previous cells\n",
        "def generate_translation(texts):\n",
        "    inputs = tokenizer(texts, return_tensors=\"pt\", padding=True, truncation=True)\n",
        "    output = model.generate(**inputs)\n",
        "    return tokenizer.batch_decode(output, skip_special_tokens=True)\n",
        "\n",
        "# Generate predictions\n",
        "en_sentences = test_data[\"en\"]\n",
        "true_sw = test_data[\"sw\"]\n",
        "pred_sw = generate_translation([text for text in en_sentences]) # Convert to list using list comprehension\n",
        "\n",
        "# Calculate BLEU score per sentence (can be computationally intensive)\n",
        "sentence_bleu_scores = [sentence_bleu([true_sw[i]], pred_sw[i]) for i in range(len(en_sentences))]\n",
        "\n",
        "# If you calculate sentence_bleu_scores, uncomment the plotting code below:\n",
        "plt.figure(figsize=(12, 5))\n",
        "plt.bar(range(len(sentence_bleu_scores)), sentence_bleu_scores, color='skyblue')\n",
        "plt.xlabel(\"Sentence Index\")\n",
        "plt.ylabel(\"BLEU Score\")\n",
        "plt.title(\"BLEU Score per Sentence\")\n",
        "plt.tight_layout()\n",
        "plt.show()\n",
        "\n",
        "\n",
        "bleu = evaluate.load(\"sacrebleu\")\n",
        "bleu_result = bleu.compute(predictions=pred_sw, references=[[t] for t in true_sw])\n",
        "\n",
        "print(f\"BLEU Score: {bleu_result['score']:.2f}\")"
      ],
      "metadata": {
        "id": "P-BdgB_5fPdB",
        "colab": {
          "base_uri": "https://localhost:8080/",
          "height": 858
        },
        "outputId": "23ecd5ac-0425-4452-937e-6a90374dfd34"
      },
      "execution_count": null,
      "outputs": [
        {
          "output_type": "stream",
          "name": "stderr",
          "text": [
            "/usr/local/lib/python3.11/dist-packages/transformers/models/marian/tokenization_marian.py:175: UserWarning: Recommended: pip install sacremoses.\n",
            "  warnings.warn(\"Recommended: pip install sacremoses.\")\n",
            "/usr/local/lib/python3.11/dist-packages/nltk/translate/bleu_score.py:577: UserWarning: \n",
            "The hypothesis contains 0 counts of 2-gram overlaps.\n",
            "Therefore the BLEU score evaluates to 0, independently of\n",
            "how many N-gram overlaps of lower order it contains.\n",
            "Consider using lower n-gram order or use SmoothingFunction()\n",
            "  warnings.warn(_msg)\n",
            "/usr/local/lib/python3.11/dist-packages/nltk/translate/bleu_score.py:577: UserWarning: \n",
            "The hypothesis contains 0 counts of 3-gram overlaps.\n",
            "Therefore the BLEU score evaluates to 0, independently of\n",
            "how many N-gram overlaps of lower order it contains.\n",
            "Consider using lower n-gram order or use SmoothingFunction()\n",
            "  warnings.warn(_msg)\n",
            "/usr/local/lib/python3.11/dist-packages/nltk/translate/bleu_score.py:577: UserWarning: \n",
            "The hypothesis contains 0 counts of 4-gram overlaps.\n",
            "Therefore the BLEU score evaluates to 0, independently of\n",
            "how many N-gram overlaps of lower order it contains.\n",
            "Consider using lower n-gram order or use SmoothingFunction()\n",
            "  warnings.warn(_msg)\n"
          ]
        },
        {
          "output_type": "display_data",
          "data": {
            "text/plain": [
              "<Figure size 1200x500 with 1 Axes>"
            ],
            "image/png": "[encoded data removed]"
          },
          "metadata": {}
        },
        {
          "output_type": "stream",
          "name": "stdout",
          "text": [
            "BLEU Score: 57.06\n"
          ]
        }
      ]
    },
    {
      "cell_type": "markdown",
      "source": [
        "###Translation Comparison\n",
        "Displays the first five English sentences alongside the model's machine-translated (MT) output and the human reference translations (REF) to qualitatively assess translation accuracy and fluency."
      ],
      "metadata": {
        "id": "Pn5nynxUm4HD"
      }
    },
    {
      "cell_type": "code",
      "source": [
        "for i in range(5):\n",
        "    print(f\"\\nEN: {en_sentences[i]}\")\n",
        "    print(f\"MT: {pred_sw[i]}\")\n",
        "    print(f\"REF: {true_sw[i]}\")"
      ],
      "metadata": {
        "id": "zWLrGTCBjSlj",
        "colab": {
          "base_uri": "https://localhost:8080/"
        },
        "outputId": "d8fd45c0-3881-4805-ec6a-e95b1ca5a9ff"
      },
      "execution_count": null,
      "outputs": [
        {
          "output_type": "stream",
          "name": "stdout",
          "text": [
            "\n",
            "EN: In the 2022 Kenya Certificate of Secondary Education Examination (KCSE) results, 708,071 candidates scored below C+, the minimum university entry grade. According to the results released by Education ...\n",
            "MT: Mnamo mwaka 2022 Kenya Cheti cha Uchunguzi wa Elimu ya Sekondari (KCSE), watahiniwa 708,071 walifunga chini ya C+, chuo kikuu cha chini zaidi. Kulingana na matokeo yaliyotolewa na Elimu ....\n",
            "REF: Katika Matokeo ya Mtihani wa Mtihani wa Elimu ya Sekondari ya Kenya (KCSE), wagombea 708,071 walifunga chini ya C+, daraja la chini la kuingia chuo kikuu. Kulingana na matokeo yaliyotolewa na elimu ...\n",
            "\n",
            "EN: On March 15 2024 the Ministry of Education announced recruitment of 2000 TVET trainers to strengthen vocational training programs across Kenya.\n",
            "MT: Mnamo Machi 15 2024 Wizara ya Elimu ilitangaza kuajiri wakufunzi 2000 wa TVET ili kuimarisha programu za mafunzo ya ufundi kote nchini Kenya.\n",
            "REF: Mnamo Machi 15 2024 Wizara ya Elimu ilitangaza kuajiri wakufunzi 2000 wa TVET ili kuimarisha programu za mafunzo ya ufundi kote nchini Kenya.\n",
            "\n",
            "EN: Be ready! Practice landslide evacuation drills in schools.\n",
            "MT: Uwe tayari! Fanya mazoezi ya uokoaji wa ardhi shuleni.\n",
            "REF: Kuwa tayari! Fanya mazoezi ya uokoaji wa maporomoko ya ardhi shuleni.\n",
            "\n",
            "EN: Bridge the gap! Provide digital tools for disabled students.\n",
            "MT: Tunga pengo! Toa zana za kidijitali kwa wanafunzi wenye ulemavu.\n",
            "REF: Jaza pengo! Toa zana za kidigitali kwa wanafunzi wenye ulemavu.[](https://kippra.or.ke/promoting-inclusive-education-in-kenya/)\n",
            "\n",
            "EN: On July 25 2024 Huawei Kenya partnered with the Ministry of Education to launch the Seed for Future program offering ICT training to TVET students.\n",
            "MT: Mnamo Julai 25 2024 Huawii Kenya ilishirikiana na Wizara ya Elimu kuanzisha Mbegu kwa programu ya wakati ujao ikitoa mafunzo ya ICT kwa wanafunzi wa TVET.\n",
            "REF: Mnamo Julai 25 2024 Huawei Kenya ilishirikiana na Wizara ya Elimu kuzindua programu ya Mbegu kwa Mustakabali ikitoa mafunzo ya ICT kwa wanafunzi wa TVET.\n"
          ]
        }
      ]
    },
    {
      "cell_type": "markdown",
      "source": [
        "###BLEU Score Interpretation\n",
        "The BLEU score of 57.06 indicates the overall translation quality of the model. BLEU scores range from 0 to 100, with higher values reflecting better alignment between machine translations and human references.\n",
        "\n",
        " A score of 57.06 suggests moderate performance, indicating that the model captures some key elements of the reference translations but may struggle with certain nuances or complexities.\n",
        "\n",
        "###Graph Interpretation\n",
        "The bar chart visualizes the BLEU score per sentence, showing how translation quality varies across individual sentences in the test set:\n",
        "\n",
        "*High Bars (Close to 1.0)*: Sentences where the model performs exceptionally well, achieving near-perfect alignment with the reference translations.\n",
        "M*edium Bars (Around 0.8–0.9):* Sentences with good translation quality, capturing most of the meaning and structure accurately.\n",
        "*Low Bars (Below 0.5):* Sentences where the model struggles, resulting in poor translations with significant deviations from the reference.\n",
        "The graph reveals variability in performance:\n",
        "\n",
        "Some sentences are translated almost perfectly (e.g., scores close to\n",
        "1.0).\n",
        "\n",
        "Others show inconsistencies, particularly noticeable when bars drop below 0.5, indicating areas for improvement.\n",
        "\n",
        "This visualization helps identify patterns and specific challenges faced by the model during translation"
      ],
      "metadata": {
        "id": "HV8tIBpL2SmU"
      }
    }
  ]
}